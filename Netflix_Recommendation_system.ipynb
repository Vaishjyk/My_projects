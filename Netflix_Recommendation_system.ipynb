{
  "cells": [
    {
      "cell_type": "code",
      "execution_count": 119,
      "metadata": {
        "id": "3wxeUas0hZOe"
      },
      "outputs": [],
      "source": [
        "# Importing necessary libraries\n",
        "import numpy as np\n",
        "import pandas as pd\n",
        "from matplotlib import pyplot as plt\n",
        "import seaborn as sns\n",
        "# import altair as alt\n",
        "from fuzzywuzzy import process"
      ]
    },
    {
      "cell_type": "markdown",
      "metadata": {
        "id": "ul9DSflDkXYY"
      },
      "source": [
        "The data used for this project is taken from the Netflix catalog in May 2022. (Source: https://www.kaggle.com/datasets/victorsoeiro/netflix-tv-shows-and-movies). The goal of this project is to use data preprocessing methods and machine learning methods to create a model that recommends users a Netflix title based off similarities in the title's attributes such as run time, genre, age certification ratings, IMDb ratings, release year, etc."
      ]
    },
    {
      "cell_type": "code",
      "execution_count": 120,
      "metadata": {
        "id": "QI--K2QRi5rL"
      },
      "outputs": [],
      "source": [
        "title = pd.read_csv('https://docs.google.com/spreadsheets/d/e/2PACX-1vR25YhrFZ9UO62GKEYUrBRP6UM-wo00KZcy15gAvhZZZNhlLTecXkludlC6iNTvAG7cqNcwh65aWIRC/pub?gid=1754548187&single=true&output=csv')"
      ]
    },
    {
      "cell_type": "code",
      "execution_count": 121,
      "metadata": {},
      "outputs": [],
      "source": [
        "title1=title.copy()"
      ]
    },
    {
      "cell_type": "markdown",
      "metadata": {},
      "source": [
        "# Initial data study"
      ]
    },
    {
      "cell_type": "code",
      "execution_count": 122,
      "metadata": {
        "id": "P1fcY6mdkL3M"
      },
      "outputs": [
        {
          "name": "stdout",
          "output_type": "stream",
          "text": [
            "<class 'pandas.core.frame.DataFrame'>\n",
            "RangeIndex: 5806 entries, 0 to 5805\n",
            "Data columns (total 15 columns):\n",
            " #   Column                Non-Null Count  Dtype  \n",
            "---  ------                --------------  -----  \n",
            " 0   id                    5806 non-null   object \n",
            " 1   title                 5805 non-null   object \n",
            " 2   type                  5806 non-null   object \n",
            " 3   description           5788 non-null   object \n",
            " 4   release_year          5806 non-null   int64  \n",
            " 5   age_certification     3196 non-null   object \n",
            " 6   runtime               5806 non-null   int64  \n",
            " 7   genres                5806 non-null   object \n",
            " 8   production_countries  5806 non-null   object \n",
            " 9   seasons               2047 non-null   float64\n",
            " 10  imdb_id               5362 non-null   object \n",
            " 11  imdb_score            5283 non-null   float64\n",
            " 12  imdb_votes            5267 non-null   float64\n",
            " 13  tmdb_popularity       5712 non-null   float64\n",
            " 14  tmdb_score            5488 non-null   float64\n",
            "dtypes: float64(5), int64(2), object(8)\n",
            "memory usage: 680.5+ KB\n"
          ]
        }
      ],
      "source": [
        "# Checking data type and info of each column\n",
        "title.info()"
      ]
    },
    {
      "cell_type": "code",
      "execution_count": 123,
      "metadata": {
        "id": "toqlX6fPkjmT"
      },
      "outputs": [
        {
          "data": {
            "text/html": [
              "<div>\n",
              "<style scoped>\n",
              "    .dataframe tbody tr th:only-of-type {\n",
              "        vertical-align: middle;\n",
              "    }\n",
              "\n",
              "    .dataframe tbody tr th {\n",
              "        vertical-align: top;\n",
              "    }\n",
              "\n",
              "    .dataframe thead th {\n",
              "        text-align: right;\n",
              "    }\n",
              "</style>\n",
              "<table border=\"1\" class=\"dataframe\">\n",
              "  <thead>\n",
              "    <tr style=\"text-align: right;\">\n",
              "      <th></th>\n",
              "      <th>id</th>\n",
              "      <th>title</th>\n",
              "      <th>type</th>\n",
              "      <th>description</th>\n",
              "      <th>release_year</th>\n",
              "      <th>age_certification</th>\n",
              "      <th>runtime</th>\n",
              "      <th>genres</th>\n",
              "      <th>production_countries</th>\n",
              "      <th>seasons</th>\n",
              "      <th>imdb_id</th>\n",
              "      <th>imdb_score</th>\n",
              "      <th>imdb_votes</th>\n",
              "      <th>tmdb_popularity</th>\n",
              "      <th>tmdb_score</th>\n",
              "    </tr>\n",
              "  </thead>\n",
              "  <tbody>\n",
              "    <tr>\n",
              "      <th>0</th>\n",
              "      <td>ts300399</td>\n",
              "      <td>Five Came Back: The Reference Films</td>\n",
              "      <td>SHOW</td>\n",
              "      <td>This collection includes 12 World War II-era p...</td>\n",
              "      <td>1945</td>\n",
              "      <td>TV-MA</td>\n",
              "      <td>48</td>\n",
              "      <td>['documentation']</td>\n",
              "      <td>['US']</td>\n",
              "      <td>1.0</td>\n",
              "      <td>NaN</td>\n",
              "      <td>NaN</td>\n",
              "      <td>NaN</td>\n",
              "      <td>0.600</td>\n",
              "      <td>NaN</td>\n",
              "    </tr>\n",
              "    <tr>\n",
              "      <th>1</th>\n",
              "      <td>tm84618</td>\n",
              "      <td>Taxi Driver</td>\n",
              "      <td>MOVIE</td>\n",
              "      <td>A mentally unstable Vietnam War veteran works ...</td>\n",
              "      <td>1976</td>\n",
              "      <td>R</td>\n",
              "      <td>113</td>\n",
              "      <td>['crime', 'drama']</td>\n",
              "      <td>['US']</td>\n",
              "      <td>NaN</td>\n",
              "      <td>tt0075314</td>\n",
              "      <td>8.3</td>\n",
              "      <td>795222.0</td>\n",
              "      <td>27.612</td>\n",
              "      <td>8.2</td>\n",
              "    </tr>\n",
              "    <tr>\n",
              "      <th>2</th>\n",
              "      <td>tm127384</td>\n",
              "      <td>Monty Python and the Holy Grail</td>\n",
              "      <td>MOVIE</td>\n",
              "      <td>King Arthur, accompanied by his squire, recrui...</td>\n",
              "      <td>1975</td>\n",
              "      <td>PG</td>\n",
              "      <td>91</td>\n",
              "      <td>['comedy', 'fantasy']</td>\n",
              "      <td>['GB']</td>\n",
              "      <td>NaN</td>\n",
              "      <td>tt0071853</td>\n",
              "      <td>8.2</td>\n",
              "      <td>530877.0</td>\n",
              "      <td>18.216</td>\n",
              "      <td>7.8</td>\n",
              "    </tr>\n",
              "    <tr>\n",
              "      <th>3</th>\n",
              "      <td>tm70993</td>\n",
              "      <td>Life of Brian</td>\n",
              "      <td>MOVIE</td>\n",
              "      <td>Brian Cohen is an average young Jewish man, bu...</td>\n",
              "      <td>1979</td>\n",
              "      <td>R</td>\n",
              "      <td>94</td>\n",
              "      <td>['comedy']</td>\n",
              "      <td>['GB']</td>\n",
              "      <td>NaN</td>\n",
              "      <td>tt0079470</td>\n",
              "      <td>8.0</td>\n",
              "      <td>392419.0</td>\n",
              "      <td>17.505</td>\n",
              "      <td>7.8</td>\n",
              "    </tr>\n",
              "    <tr>\n",
              "      <th>4</th>\n",
              "      <td>tm190788</td>\n",
              "      <td>The Exorcist</td>\n",
              "      <td>MOVIE</td>\n",
              "      <td>12-year-old Regan MacNeil begins to adapt an e...</td>\n",
              "      <td>1973</td>\n",
              "      <td>R</td>\n",
              "      <td>133</td>\n",
              "      <td>['horror']</td>\n",
              "      <td>['US']</td>\n",
              "      <td>NaN</td>\n",
              "      <td>tt0070047</td>\n",
              "      <td>8.1</td>\n",
              "      <td>391942.0</td>\n",
              "      <td>95.337</td>\n",
              "      <td>7.7</td>\n",
              "    </tr>\n",
              "  </tbody>\n",
              "</table>\n",
              "</div>"
            ],
            "text/plain": [
              "         id                                title   type  \\\n",
              "0  ts300399  Five Came Back: The Reference Films   SHOW   \n",
              "1   tm84618                          Taxi Driver  MOVIE   \n",
              "2  tm127384      Monty Python and the Holy Grail  MOVIE   \n",
              "3   tm70993                        Life of Brian  MOVIE   \n",
              "4  tm190788                         The Exorcist  MOVIE   \n",
              "\n",
              "                                         description  release_year  \\\n",
              "0  This collection includes 12 World War II-era p...          1945   \n",
              "1  A mentally unstable Vietnam War veteran works ...          1976   \n",
              "2  King Arthur, accompanied by his squire, recrui...          1975   \n",
              "3  Brian Cohen is an average young Jewish man, bu...          1979   \n",
              "4  12-year-old Regan MacNeil begins to adapt an e...          1973   \n",
              "\n",
              "  age_certification  runtime                 genres production_countries  \\\n",
              "0             TV-MA       48      ['documentation']               ['US']   \n",
              "1                 R      113     ['crime', 'drama']               ['US']   \n",
              "2                PG       91  ['comedy', 'fantasy']               ['GB']   \n",
              "3                 R       94             ['comedy']               ['GB']   \n",
              "4                 R      133             ['horror']               ['US']   \n",
              "\n",
              "   seasons    imdb_id  imdb_score  imdb_votes  tmdb_popularity  tmdb_score  \n",
              "0      1.0        NaN         NaN         NaN            0.600         NaN  \n",
              "1      NaN  tt0075314         8.3    795222.0           27.612         8.2  \n",
              "2      NaN  tt0071853         8.2    530877.0           18.216         7.8  \n",
              "3      NaN  tt0079470         8.0    392419.0           17.505         7.8  \n",
              "4      NaN  tt0070047         8.1    391942.0           95.337         7.7  "
            ]
          },
          "execution_count": 123,
          "metadata": {},
          "output_type": "execute_result"
        }
      ],
      "source": [
        "# Preview of the data\n",
        "title.head()"
      ]
    },
    {
      "cell_type": "code",
      "execution_count": 124,
      "metadata": {
        "id": "gbPEvyr7kqjn"
      },
      "outputs": [
        {
          "data": {
            "text/plain": [
              "(5806, 15)"
            ]
          },
          "execution_count": 124,
          "metadata": {},
          "output_type": "execute_result"
        }
      ],
      "source": [
        "# Number of rows & columns in data\n",
        "title.shape"
      ]
    },
    {
      "cell_type": "code",
      "execution_count": 125,
      "metadata": {
        "id": "fQiJKNvfmCuW"
      },
      "outputs": [
        {
          "data": {
            "text/html": [
              "<div>\n",
              "<style scoped>\n",
              "    .dataframe tbody tr th:only-of-type {\n",
              "        vertical-align: middle;\n",
              "    }\n",
              "\n",
              "    .dataframe tbody tr th {\n",
              "        vertical-align: top;\n",
              "    }\n",
              "\n",
              "    .dataframe thead th {\n",
              "        text-align: right;\n",
              "    }\n",
              "</style>\n",
              "<table border=\"1\" class=\"dataframe\">\n",
              "  <thead>\n",
              "    <tr style=\"text-align: right;\">\n",
              "      <th></th>\n",
              "      <th>release_year</th>\n",
              "      <th>runtime</th>\n",
              "      <th>seasons</th>\n",
              "      <th>imdb_score</th>\n",
              "      <th>imdb_votes</th>\n",
              "      <th>tmdb_popularity</th>\n",
              "      <th>tmdb_score</th>\n",
              "    </tr>\n",
              "  </thead>\n",
              "  <tbody>\n",
              "    <tr>\n",
              "      <th>count</th>\n",
              "      <td>5806.000000</td>\n",
              "      <td>5806.000000</td>\n",
              "      <td>2047.000000</td>\n",
              "      <td>5283.000000</td>\n",
              "      <td>5.267000e+03</td>\n",
              "      <td>5712.000000</td>\n",
              "      <td>5488.000000</td>\n",
              "    </tr>\n",
              "    <tr>\n",
              "      <th>mean</th>\n",
              "      <td>2016.013434</td>\n",
              "      <td>77.643989</td>\n",
              "      <td>2.165608</td>\n",
              "      <td>6.533447</td>\n",
              "      <td>2.340719e+04</td>\n",
              "      <td>22.525660</td>\n",
              "      <td>6.818039</td>\n",
              "    </tr>\n",
              "    <tr>\n",
              "      <th>std</th>\n",
              "      <td>7.324883</td>\n",
              "      <td>39.474160</td>\n",
              "      <td>2.636207</td>\n",
              "      <td>1.160932</td>\n",
              "      <td>8.713432e+04</td>\n",
              "      <td>68.849177</td>\n",
              "      <td>1.171560</td>\n",
              "    </tr>\n",
              "    <tr>\n",
              "      <th>min</th>\n",
              "      <td>1945.000000</td>\n",
              "      <td>0.000000</td>\n",
              "      <td>1.000000</td>\n",
              "      <td>1.500000</td>\n",
              "      <td>5.000000e+00</td>\n",
              "      <td>0.009442</td>\n",
              "      <td>0.500000</td>\n",
              "    </tr>\n",
              "    <tr>\n",
              "      <th>25%</th>\n",
              "      <td>2015.000000</td>\n",
              "      <td>44.000000</td>\n",
              "      <td>1.000000</td>\n",
              "      <td>5.800000</td>\n",
              "      <td>5.210000e+02</td>\n",
              "      <td>3.155250</td>\n",
              "      <td>6.100000</td>\n",
              "    </tr>\n",
              "    <tr>\n",
              "      <th>50%</th>\n",
              "      <td>2018.000000</td>\n",
              "      <td>84.000000</td>\n",
              "      <td>1.000000</td>\n",
              "      <td>6.600000</td>\n",
              "      <td>2.279000e+03</td>\n",
              "      <td>7.478000</td>\n",
              "      <td>6.900000</td>\n",
              "    </tr>\n",
              "    <tr>\n",
              "      <th>75%</th>\n",
              "      <td>2020.000000</td>\n",
              "      <td>105.000000</td>\n",
              "      <td>2.000000</td>\n",
              "      <td>7.400000</td>\n",
              "      <td>1.014400e+04</td>\n",
              "      <td>17.775750</td>\n",
              "      <td>7.500000</td>\n",
              "    </tr>\n",
              "    <tr>\n",
              "      <th>max</th>\n",
              "      <td>2022.000000</td>\n",
              "      <td>251.000000</td>\n",
              "      <td>42.000000</td>\n",
              "      <td>9.600000</td>\n",
              "      <td>2.268288e+06</td>\n",
              "      <td>1823.374000</td>\n",
              "      <td>10.000000</td>\n",
              "    </tr>\n",
              "  </tbody>\n",
              "</table>\n",
              "</div>"
            ],
            "text/plain": [
              "       release_year      runtime      seasons   imdb_score    imdb_votes  \\\n",
              "count   5806.000000  5806.000000  2047.000000  5283.000000  5.267000e+03   \n",
              "mean    2016.013434    77.643989     2.165608     6.533447  2.340719e+04   \n",
              "std        7.324883    39.474160     2.636207     1.160932  8.713432e+04   \n",
              "min     1945.000000     0.000000     1.000000     1.500000  5.000000e+00   \n",
              "25%     2015.000000    44.000000     1.000000     5.800000  5.210000e+02   \n",
              "50%     2018.000000    84.000000     1.000000     6.600000  2.279000e+03   \n",
              "75%     2020.000000   105.000000     2.000000     7.400000  1.014400e+04   \n",
              "max     2022.000000   251.000000    42.000000     9.600000  2.268288e+06   \n",
              "\n",
              "       tmdb_popularity   tmdb_score  \n",
              "count      5712.000000  5488.000000  \n",
              "mean         22.525660     6.818039  \n",
              "std          68.849177     1.171560  \n",
              "min           0.009442     0.500000  \n",
              "25%           3.155250     6.100000  \n",
              "50%           7.478000     6.900000  \n",
              "75%          17.775750     7.500000  \n",
              "max        1823.374000    10.000000  "
            ]
          },
          "execution_count": 125,
          "metadata": {},
          "output_type": "execute_result"
        }
      ],
      "source": [
        "# Statistical details\n",
        "title.describe()"
      ]
    },
    {
      "cell_type": "code",
      "execution_count": 126,
      "metadata": {
        "id": "8LArNi4RmmGk"
      },
      "outputs": [
        {
          "data": {
            "text/plain": [
              "id                         0\n",
              "title                      1\n",
              "type                       0\n",
              "description               18\n",
              "release_year               0\n",
              "age_certification       2610\n",
              "runtime                    0\n",
              "genres                     0\n",
              "production_countries       0\n",
              "seasons                 3759\n",
              "imdb_id                  444\n",
              "imdb_score               523\n",
              "imdb_votes               539\n",
              "tmdb_popularity           94\n",
              "tmdb_score               318\n",
              "dtype: int64"
            ]
          },
          "execution_count": 126,
          "metadata": {},
          "output_type": "execute_result"
        }
      ],
      "source": [
        "# Counting null values\n",
        "title.isnull().sum()"
      ]
    },
    {
      "cell_type": "markdown",
      "metadata": {
        "id": "b5bH3HK6na1Q"
      },
      "source": [
        "To get a better hold of the null values, let us look into the percentage of missing values in each column"
      ]
    },
    {
      "cell_type": "code",
      "execution_count": 127,
      "metadata": {
        "id": "KSycK__Dn2iK"
      },
      "outputs": [
        {
          "data": {
            "text/html": [
              "<style type=\"text/css\">\n",
              "#T_b21d5_row0_col1 {\n",
              "  background-color: #00441b;\n",
              "  color: #f1f1f1;\n",
              "}\n",
              "#T_b21d5_row1_col1 {\n",
              "  background-color: #309950;\n",
              "  color: #f1f1f1;\n",
              "}\n",
              "#T_b21d5_row2_col1 {\n",
              "  background-color: #e1f3dc;\n",
              "  color: #000000;\n",
              "}\n",
              "#T_b21d5_row3_col1 {\n",
              "  background-color: #e2f4dd;\n",
              "  color: #000000;\n",
              "}\n",
              "#T_b21d5_row4_col1 {\n",
              "  background-color: #e6f5e1;\n",
              "  color: #000000;\n",
              "}\n",
              "#T_b21d5_row5_col1 {\n",
              "  background-color: #ebf7e7;\n",
              "  color: #000000;\n",
              "}\n",
              "#T_b21d5_row6_col1 {\n",
              "  background-color: #f4fbf1;\n",
              "  color: #000000;\n",
              "}\n",
              "#T_b21d5_row7_col1 {\n",
              "  background-color: #f6fcf4;\n",
              "  color: #000000;\n",
              "}\n",
              "#T_b21d5_row8_col1, #T_b21d5_row9_col1, #T_b21d5_row10_col1, #T_b21d5_row11_col1, #T_b21d5_row12_col1, #T_b21d5_row13_col1, #T_b21d5_row14_col1 {\n",
              "  background-color: #f7fcf5;\n",
              "  color: #000000;\n",
              "}\n",
              "</style>\n",
              "<table id=\"T_b21d5\">\n",
              "  <thead>\n",
              "    <tr>\n",
              "      <th class=\"blank level0\" >&nbsp;</th>\n",
              "      <th id=\"T_b21d5_level0_col0\" class=\"col_heading level0 col0\" >Features</th>\n",
              "      <th id=\"T_b21d5_level0_col1\" class=\"col_heading level0 col1\" >Null_Value_Percentage</th>\n",
              "    </tr>\n",
              "  </thead>\n",
              "  <tbody>\n",
              "    <tr>\n",
              "      <th id=\"T_b21d5_level0_row0\" class=\"row_heading level0 row0\" >0</th>\n",
              "      <td id=\"T_b21d5_row0_col0\" class=\"data row0 col0\" >seasons</td>\n",
              "      <td id=\"T_b21d5_row0_col1\" class=\"data row0 col1\" >64.743369</td>\n",
              "    </tr>\n",
              "    <tr>\n",
              "      <th id=\"T_b21d5_level0_row1\" class=\"row_heading level0 row1\" >1</th>\n",
              "      <td id=\"T_b21d5_row1_col0\" class=\"data row1 col0\" >age_certification</td>\n",
              "      <td id=\"T_b21d5_row1_col1\" class=\"data row1 col1\" >44.953496</td>\n",
              "    </tr>\n",
              "    <tr>\n",
              "      <th id=\"T_b21d5_level0_row2\" class=\"row_heading level0 row2\" >2</th>\n",
              "      <td id=\"T_b21d5_row2_col0\" class=\"data row2 col0\" >imdb_votes</td>\n",
              "      <td id=\"T_b21d5_row2_col1\" class=\"data row2 col1\" >9.283500</td>\n",
              "    </tr>\n",
              "    <tr>\n",
              "      <th id=\"T_b21d5_level0_row3\" class=\"row_heading level0 row3\" >3</th>\n",
              "      <td id=\"T_b21d5_row3_col0\" class=\"data row3 col0\" >imdb_score</td>\n",
              "      <td id=\"T_b21d5_row3_col1\" class=\"data row3 col1\" >9.007923</td>\n",
              "    </tr>\n",
              "    <tr>\n",
              "      <th id=\"T_b21d5_level0_row4\" class=\"row_heading level0 row4\" >4</th>\n",
              "      <td id=\"T_b21d5_row4_col0\" class=\"data row4 col0\" >imdb_id</td>\n",
              "      <td id=\"T_b21d5_row4_col1\" class=\"data row4 col1\" >7.647261</td>\n",
              "    </tr>\n",
              "    <tr>\n",
              "      <th id=\"T_b21d5_level0_row5\" class=\"row_heading level0 row5\" >5</th>\n",
              "      <td id=\"T_b21d5_row5_col0\" class=\"data row5 col0\" >tmdb_score</td>\n",
              "      <td id=\"T_b21d5_row5_col1\" class=\"data row5 col1\" >5.477093</td>\n",
              "    </tr>\n",
              "    <tr>\n",
              "      <th id=\"T_b21d5_level0_row6\" class=\"row_heading level0 row6\" >6</th>\n",
              "      <td id=\"T_b21d5_row6_col0\" class=\"data row6 col0\" >tmdb_popularity</td>\n",
              "      <td id=\"T_b21d5_row6_col1\" class=\"data row6 col1\" >1.619015</td>\n",
              "    </tr>\n",
              "    <tr>\n",
              "      <th id=\"T_b21d5_level0_row7\" class=\"row_heading level0 row7\" >7</th>\n",
              "      <td id=\"T_b21d5_row7_col0\" class=\"data row7 col0\" >description</td>\n",
              "      <td id=\"T_b21d5_row7_col1\" class=\"data row7 col1\" >0.310024</td>\n",
              "    </tr>\n",
              "    <tr>\n",
              "      <th id=\"T_b21d5_level0_row8\" class=\"row_heading level0 row8\" >8</th>\n",
              "      <td id=\"T_b21d5_row8_col0\" class=\"data row8 col0\" >title</td>\n",
              "      <td id=\"T_b21d5_row8_col1\" class=\"data row8 col1\" >0.017224</td>\n",
              "    </tr>\n",
              "    <tr>\n",
              "      <th id=\"T_b21d5_level0_row9\" class=\"row_heading level0 row9\" >9</th>\n",
              "      <td id=\"T_b21d5_row9_col0\" class=\"data row9 col0\" >id</td>\n",
              "      <td id=\"T_b21d5_row9_col1\" class=\"data row9 col1\" >0.000000</td>\n",
              "    </tr>\n",
              "    <tr>\n",
              "      <th id=\"T_b21d5_level0_row10\" class=\"row_heading level0 row10\" >10</th>\n",
              "      <td id=\"T_b21d5_row10_col0\" class=\"data row10 col0\" >type</td>\n",
              "      <td id=\"T_b21d5_row10_col1\" class=\"data row10 col1\" >0.000000</td>\n",
              "    </tr>\n",
              "    <tr>\n",
              "      <th id=\"T_b21d5_level0_row11\" class=\"row_heading level0 row11\" >11</th>\n",
              "      <td id=\"T_b21d5_row11_col0\" class=\"data row11 col0\" >release_year</td>\n",
              "      <td id=\"T_b21d5_row11_col1\" class=\"data row11 col1\" >0.000000</td>\n",
              "    </tr>\n",
              "    <tr>\n",
              "      <th id=\"T_b21d5_level0_row12\" class=\"row_heading level0 row12\" >12</th>\n",
              "      <td id=\"T_b21d5_row12_col0\" class=\"data row12 col0\" >runtime</td>\n",
              "      <td id=\"T_b21d5_row12_col1\" class=\"data row12 col1\" >0.000000</td>\n",
              "    </tr>\n",
              "    <tr>\n",
              "      <th id=\"T_b21d5_level0_row13\" class=\"row_heading level0 row13\" >13</th>\n",
              "      <td id=\"T_b21d5_row13_col0\" class=\"data row13 col0\" >genres</td>\n",
              "      <td id=\"T_b21d5_row13_col1\" class=\"data row13 col1\" >0.000000</td>\n",
              "    </tr>\n",
              "    <tr>\n",
              "      <th id=\"T_b21d5_level0_row14\" class=\"row_heading level0 row14\" >14</th>\n",
              "      <td id=\"T_b21d5_row14_col0\" class=\"data row14 col0\" >production_countries</td>\n",
              "      <td id=\"T_b21d5_row14_col1\" class=\"data row14 col1\" >0.000000</td>\n",
              "    </tr>\n",
              "  </tbody>\n",
              "</table>\n"
            ],
            "text/plain": [
              "<pandas.io.formats.style.Styler at 0x29b6d3d7b80>"
            ]
          },
          "execution_count": 127,
          "metadata": {},
          "output_type": "execute_result"
        }
      ],
      "source": [
        "# Which columns contain a lot of null values\n",
        "Nullpercent = title.isnull().sum().sort_values(ascending = False) / len(title) * 100\n",
        "null_df = pd.DataFrame({'Features': Nullpercent.index, 'Null_Value_Percentage': Nullpercent.values}).style.background_gradient(cmap='Greens')\n",
        "null_df"
      ]
    },
    {
      "cell_type": "markdown",
      "metadata": {
        "id": "QYjPoi7SoN9G"
      },
      "source": [
        "We can notice that the seasons column has a lot missing values, but this is easily explained away since movies are listed missing values for this column. The age certification column also has a lot of missing values later we will encode these values as not rated for the model. For the rest of the columns these missing values are likely due to the title not being on IMDb or tmdb (The Movie Database) and will be filled with zeros for the model."
      ]
    },
    {
      "cell_type": "markdown",
      "metadata": {},
      "source": [
        "# Data Exploration and Visualisation"
      ]
    },
    {
      "cell_type": "markdown",
      "metadata": {},
      "source": [
        "The data is explored seperately for shows and movie types."
      ]
    },
    {
      "cell_type": "markdown",
      "metadata": {},
      "source": [
        "## Shows data"
      ]
    },
    {
      "cell_type": "code",
      "execution_count": 145,
      "metadata": {},
      "outputs": [
        {
          "data": {
            "text/html": [
              "<div>\n",
              "<style scoped>\n",
              "    .dataframe tbody tr th:only-of-type {\n",
              "        vertical-align: middle;\n",
              "    }\n",
              "\n",
              "    .dataframe tbody tr th {\n",
              "        vertical-align: top;\n",
              "    }\n",
              "\n",
              "    .dataframe thead th {\n",
              "        text-align: right;\n",
              "    }\n",
              "</style>\n",
              "<table border=\"1\" class=\"dataframe\">\n",
              "  <thead>\n",
              "    <tr style=\"text-align: right;\">\n",
              "      <th></th>\n",
              "      <th>id</th>\n",
              "      <th>title</th>\n",
              "      <th>type</th>\n",
              "      <th>description</th>\n",
              "      <th>release_year</th>\n",
              "      <th>age_certification</th>\n",
              "      <th>runtime</th>\n",
              "      <th>genres</th>\n",
              "      <th>production_countries</th>\n",
              "      <th>seasons</th>\n",
              "      <th>imdb_id</th>\n",
              "      <th>imdb_score</th>\n",
              "      <th>imdb_votes</th>\n",
              "      <th>tmdb_popularity</th>\n",
              "      <th>tmdb_score</th>\n",
              "    </tr>\n",
              "  </thead>\n",
              "  <tbody>\n",
              "    <tr>\n",
              "      <th>0</th>\n",
              "      <td>ts300399</td>\n",
              "      <td>Five Came Back: The Reference Films</td>\n",
              "      <td>SHOW</td>\n",
              "      <td>This collection includes 12 World War II-era p...</td>\n",
              "      <td>1945</td>\n",
              "      <td>TV-MA</td>\n",
              "      <td>48</td>\n",
              "      <td>['documentation']</td>\n",
              "      <td>['US']</td>\n",
              "      <td>1.0</td>\n",
              "      <td>NaN</td>\n",
              "      <td>NaN</td>\n",
              "      <td>NaN</td>\n",
              "      <td>0.600</td>\n",
              "      <td>NaN</td>\n",
              "    </tr>\n",
              "    <tr>\n",
              "      <th>5</th>\n",
              "      <td>ts22164</td>\n",
              "      <td>Monty Python's Flying Circus</td>\n",
              "      <td>SHOW</td>\n",
              "      <td>A British sketch comedy series with the shows ...</td>\n",
              "      <td>1969</td>\n",
              "      <td>TV-14</td>\n",
              "      <td>30</td>\n",
              "      <td>['comedy', 'european']</td>\n",
              "      <td>['GB']</td>\n",
              "      <td>4.0</td>\n",
              "      <td>tt0063929</td>\n",
              "      <td>8.8</td>\n",
              "      <td>72895.0</td>\n",
              "      <td>12.919</td>\n",
              "      <td>8.3</td>\n",
              "    </tr>\n",
              "    <tr>\n",
              "      <th>29</th>\n",
              "      <td>ts45948</td>\n",
              "      <td>Monty Python's Fliegender Zirkus</td>\n",
              "      <td>SHOW</td>\n",
              "      <td>Monty Python's Fliegender Zirkus consisted of ...</td>\n",
              "      <td>1972</td>\n",
              "      <td>TV-MA</td>\n",
              "      <td>43</td>\n",
              "      <td>['comedy']</td>\n",
              "      <td>[]</td>\n",
              "      <td>1.0</td>\n",
              "      <td>tt0202477</td>\n",
              "      <td>8.1</td>\n",
              "      <td>2144.0</td>\n",
              "      <td>1.490</td>\n",
              "      <td>7.0</td>\n",
              "    </tr>\n",
              "    <tr>\n",
              "      <th>47</th>\n",
              "      <td>ts20681</td>\n",
              "      <td>Seinfeld</td>\n",
              "      <td>SHOW</td>\n",
              "      <td>A stand-up comedian and his three offbeat frie...</td>\n",
              "      <td>1989</td>\n",
              "      <td>TV-PG</td>\n",
              "      <td>24</td>\n",
              "      <td>['comedy']</td>\n",
              "      <td>['US']</td>\n",
              "      <td>9.0</td>\n",
              "      <td>tt0098904</td>\n",
              "      <td>8.9</td>\n",
              "      <td>302700.0</td>\n",
              "      <td>128.743</td>\n",
              "      <td>8.3</td>\n",
              "    </tr>\n",
              "    <tr>\n",
              "      <th>55</th>\n",
              "      <td>ts22082</td>\n",
              "      <td>Knight Rider</td>\n",
              "      <td>SHOW</td>\n",
              "      <td>Michael Long, an undercover police officer, is...</td>\n",
              "      <td>1982</td>\n",
              "      <td>TV-PG</td>\n",
              "      <td>51</td>\n",
              "      <td>['action', 'scifi', 'crime', 'drama']</td>\n",
              "      <td>['US']</td>\n",
              "      <td>4.0</td>\n",
              "      <td>tt0083437</td>\n",
              "      <td>6.9</td>\n",
              "      <td>33760.0</td>\n",
              "      <td>44.378</td>\n",
              "      <td>7.5</td>\n",
              "    </tr>\n",
              "  </tbody>\n",
              "</table>\n",
              "</div>"
            ],
            "text/plain": [
              "          id                                title  type  \\\n",
              "0   ts300399  Five Came Back: The Reference Films  SHOW   \n",
              "5    ts22164         Monty Python's Flying Circus  SHOW   \n",
              "29   ts45948     Monty Python's Fliegender Zirkus  SHOW   \n",
              "47   ts20681                             Seinfeld  SHOW   \n",
              "55   ts22082                         Knight Rider  SHOW   \n",
              "\n",
              "                                          description  release_year  \\\n",
              "0   This collection includes 12 World War II-era p...          1945   \n",
              "5   A British sketch comedy series with the shows ...          1969   \n",
              "29  Monty Python's Fliegender Zirkus consisted of ...          1972   \n",
              "47  A stand-up comedian and his three offbeat frie...          1989   \n",
              "55  Michael Long, an undercover police officer, is...          1982   \n",
              "\n",
              "   age_certification  runtime                                 genres  \\\n",
              "0              TV-MA       48                      ['documentation']   \n",
              "5              TV-14       30                 ['comedy', 'european']   \n",
              "29             TV-MA       43                             ['comedy']   \n",
              "47             TV-PG       24                             ['comedy']   \n",
              "55             TV-PG       51  ['action', 'scifi', 'crime', 'drama']   \n",
              "\n",
              "   production_countries  seasons    imdb_id  imdb_score  imdb_votes  \\\n",
              "0                ['US']      1.0        NaN         NaN         NaN   \n",
              "5                ['GB']      4.0  tt0063929         8.8     72895.0   \n",
              "29                   []      1.0  tt0202477         8.1      2144.0   \n",
              "47               ['US']      9.0  tt0098904         8.9    302700.0   \n",
              "55               ['US']      4.0  tt0083437         6.9     33760.0   \n",
              "\n",
              "    tmdb_popularity  tmdb_score  \n",
              "0             0.600         NaN  \n",
              "5            12.919         8.3  \n",
              "29            1.490         7.0  \n",
              "47          128.743         8.3  \n",
              "55           44.378         7.5  "
            ]
          },
          "execution_count": 145,
          "metadata": {},
          "output_type": "execute_result"
        }
      ],
      "source": [
        "# New df= filter: only shows\n",
        "shows = title1[title1.type == \"SHOW\"]\n",
        "shows.head()"
      ]
    },
    {
      "cell_type": "markdown",
      "metadata": {},
      "source": [
        "### Dropping the null values"
      ]
    },
    {
      "cell_type": "code",
      "execution_count": 146,
      "metadata": {},
      "outputs": [
        {
          "data": {
            "text/plain": [
              "id                        0\n",
              "title                     0\n",
              "type                      0\n",
              "description               1\n",
              "release_year              0\n",
              "age_certification       188\n",
              "runtime                   0\n",
              "genres                    0\n",
              "production_countries      0\n",
              "seasons                   0\n",
              "imdb_id                   0\n",
              "imdb_score                0\n",
              "imdb_votes                0\n",
              "tmdb_popularity           0\n",
              "tmdb_score                0\n",
              "dtype: int64"
            ]
          },
          "execution_count": 146,
          "metadata": {},
          "output_type": "execute_result"
        }
      ],
      "source": [
        "# Drop nulls on scores & pop\n",
        "shows_clean = shows.dropna(subset=['imdb_id','imdb_score','imdb_votes','tmdb_popularity','tmdb_score'])\n",
        "shows_clean.isnull().sum()"
      ]
    },
    {
      "cell_type": "markdown",
      "metadata": {},
      "source": [
        "### Correlation using heatmap"
      ]
    },
    {
      "cell_type": "code",
      "execution_count": 147,
      "metadata": {},
      "outputs": [
        {
          "data": {
            "image/png": "[encoded data removed]",
            "text/plain": [
              "<Figure size 792x648 with 2 Axes>"
            ]
          },
          "metadata": {},
          "output_type": "display_data"
        }
      ],
      "source": [
        "corrmat_shows= shows_clean.corr()\n",
        "\n",
        "#Set font size\n",
        "sns.set(font_scale=1.25)\n",
        "\n",
        "#set graph size\n",
        "f, ax = plt.subplots(figsize=(11,9))\n",
        "    # I try to fit the graph in a 100% zoom average monitor. 11 & 9 are usually ok but it depends on the graph and other things. \n",
        "\n",
        "#create corr heatmap\n",
        "hm_shows= sns.heatmap(corrmat_shows,cbar=True, annot=True, square=True, fmt= \".2f\", annot_kws={\"size\":10,},yticklabels= corrmat_shows.index, xticklabels=corrmat_shows.index)\n",
        "    \n",
        "#Show heatmap\n",
        "plt.show()"
      ]
    },
    {
      "cell_type": "markdown",
      "metadata": {},
      "source": [
        "#OBSERVATIONS: \n",
        "\n",
        "1. The 2 different scores: imdb and tmdb have a weak/normal correlation , which is ilogical. A good show should have similar score platform independent. \n",
        "2. Number of seasons has a small correlation with tmdb_popularity whichs sounds logical. High Popularity should infer more seasons. But, surprisingly it has almost none with score. This will be analyzed in detail later.\n",
        "3.Release_year doesnt affect popularity or score. The same goes for \"runtime\"\n",
        "4. imdb_votes has correlations with 2 other variables but too small. It is somehow similar to tmdb_popularity."
      ]
    },
    {
      "cell_type": "markdown",
      "metadata": {},
      "source": [
        "### Release years of various shows"
      ]
    },
    {
      "cell_type": "code",
      "execution_count": 148,
      "metadata": {},
      "outputs": [
        {
          "data": {
            "image/png": "[encoded data removed]",
            "text/plain": [
              "<Figure size 720x648 with 1 Axes>"
            ]
          },
          "metadata": {},
          "output_type": "display_data"
        }
      ],
      "source": [
        "#The following code acts as a groupby + count:\n",
        "shows_per_year = shows.release_year.value_counts()\n",
        "#check\n",
        "#shows_per_year.head()\n",
        "\n",
        "# transform object into df\n",
        "shows_per_year = pd.DataFrame(shows_per_year)\n",
        "\n",
        "\n",
        "# change column titles\n",
        "shows_per_year.rename(columns = {'release_year':'total_shows'}, inplace = True)\n",
        "\n",
        "#------------------------------\n",
        "# line graph\n",
        "\n",
        "plt.figure(figsize=(10, 9))\n",
        "sns.lineplot(data= shows_per_year)\n",
        "plt.title('Netflix´s shows release date (1940-2021)')\n",
        "plt.xlim(1940, 2021)\n",
        "plt.xlabel('Year released')\n",
        "plt.ylabel('Total Shows on Netflix')\n",
        "plt.show()"
      ]
    },
    {
      "cell_type": "markdown",
      "metadata": {},
      "source": [
        " The years in which highest number of shows were released are analysed separately"
      ]
    },
    {
      "cell_type": "code",
      "execution_count": 149,
      "metadata": {},
      "outputs": [
        {
          "data": {
            "image/png": "[encoded data removed]",
            "text/plain": [
              "<Figure size 720x648 with 1 Axes>"
            ]
          },
          "metadata": {},
          "output_type": "display_data"
        }
      ],
      "source": [
        "# Between 2000 and 2021\n",
        "plt.figure(figsize=(10, 9))\n",
        "sns.lineplot(data= shows_per_year)\n",
        "plt.title('Netflix´s shows release date (2000-2021)')\n",
        "plt.xlim(2000, 2021)\n",
        "plt.xlabel('Year released')\n",
        "plt.ylabel('Total Shows on Netflix')\n",
        "plt.show()"
      ]
    },
    {
      "cell_type": "markdown",
      "metadata": {},
      "source": [
        "Priting the year in which maximum number of shows were released"
      ]
    },
    {
      "cell_type": "code",
      "execution_count": 150,
      "metadata": {},
      "outputs": [
        {
          "name": "stdout",
          "output_type": "stream",
          "text": [
            " Most Netflix´s shows were released on: [2019] with a total of 308 shows\n"
          ]
        }
      ],
      "source": [
        "max_shows = max(shows_per_year.total_shows)\n",
        "\n",
        "# Year with max value\n",
        "#Find index with value: \n",
        "year_with_max_shows= shows_per_year.index[shows_per_year['total_shows'] == max_shows].tolist()\n",
        " \n",
        "\n",
        "#temporary print\n",
        "print (f' Most Netflix´s shows were released on: {year_with_max_shows} with a total of {max_shows} shows')"
      ]
    },
    {
      "cell_type": "markdown",
      "metadata": {},
      "source": [
        "### No.of shows per age certification"
      ]
    },
    {
      "cell_type": "code",
      "execution_count": 151,
      "metadata": {},
      "outputs": [],
      "source": [
        "def show_values(axs, orient=\"v\", space=.01):\n",
        "    def _single(ax):\n",
        "        if orient == \"v\":\n",
        "            for p in ax.patches:\n",
        "                _x = p.get_x() + p.get_width() / 2\n",
        "                _y = p.get_y() + p.get_height() + (p.get_height()*0.01)\n",
        "                value = '{:.1f}'.format(p.get_height())\n",
        "                ax.text(_x, _y, value, ha=\"center\") \n",
        "        elif orient == \"h\":\n",
        "            for p in ax.patches:\n",
        "                _x = p.get_x() + p.get_width() + float(space)\n",
        "                _y = p.get_y() + p.get_height() - (p.get_height()*0.5)\n",
        "                value = '{:.1f}'.format(p.get_width())\n",
        "                ax.text(_x, _y, value, ha=\"left\")\n",
        "\n",
        "    if isinstance(axs, np.ndarray):\n",
        "        for idx, ax in np.ndenumerate(axs):\n",
        "            _single(ax)\n",
        "    else:\n",
        "        _single(axs)"
      ]
    },
    {
      "cell_type": "code",
      "execution_count": 152,
      "metadata": {},
      "outputs": [
        {
          "data": {
            "text/plain": [
              "Text(0.5, 0, 'Age Certification')"
            ]
          },
          "execution_count": 152,
          "metadata": {},
          "output_type": "execute_result"
        },
        {
          "data": {
            "image/png": "[encoded data removed]",
            "text/plain": [
              "<Figure size 792x576 with 1 Axes>"
            ]
          },
          "metadata": {},
          "output_type": "display_data"
        }
      ],
      "source": [
        "shows_certification = shows.age_certification.value_counts()\n",
        "\n",
        "# transform object into df\n",
        "shows_certification = pd.DataFrame(shows_certification)\n",
        "\n",
        "# change column titles\n",
        "shows_certification.rename(columns = {'age_certification':'total_shows'}, inplace = True)\n",
        "\n",
        "#--------------------\n",
        "#Barchart (seaborn)\n",
        "\n",
        "# Width and height of the figure\n",
        "plt.figure(figsize=(11,8))\n",
        "\n",
        "# Title\n",
        "plt.title(\"Shows per age certification\")\n",
        "\n",
        "# Bar chart \n",
        "b_shows_certification = sns.barplot(x=shows_certification.index, y=shows_certification[\"total_shows\"], data=shows_certification, ci=None)\n",
        "\n",
        "#Show values: I use pre-made function (show_values) \n",
        "show_values(b_shows_certification)\n",
        "\n",
        "# Title y-axis\n",
        "plt.ylabel(\"Total Shows\")\n",
        "plt.xlabel(\"Age Certification\")"
      ]
    },
    {
      "cell_type": "code",
      "execution_count": 153,
      "metadata": {},
      "outputs": [
        {
          "name": "stdout",
          "output_type": "stream",
          "text": [
            "The category with more shows is: ['TV-MA'] with a total of 841 shows\n"
          ]
        }
      ],
      "source": [
        "# Printing max category and its value\n",
        "\n",
        "# Category with max \n",
        "max_shows_in_category = max(shows_certification.total_shows)\n",
        "\n",
        "#Find index with value: \n",
        "category_with_max_shows= shows_certification.index[shows_certification['total_shows'] == max_shows_in_category].tolist()\n",
        "\n",
        "#temporary print\n",
        "print (f'The category with more shows is: {category_with_max_shows} with a total of {max_shows_in_category} shows')"
      ]
    },
    {
      "cell_type": "markdown",
      "metadata": {},
      "source": [
        "### Average run time of the shows"
      ]
    },
    {
      "cell_type": "code",
      "execution_count": 154,
      "metadata": {},
      "outputs": [
        {
          "name": "stdout",
          "output_type": "stream",
          "text": [
            "The mean duration for an episode is 39 minutes, the maximum is 225 and minimum is 2\n"
          ]
        }
      ],
      "source": [
        "# max\n",
        "b= max(shows.runtime)\n",
        "\n",
        "# min \n",
        "c= min((shows[shows.runtime >0]).runtime)\n",
        "    \n",
        "\n",
        "# mean\n",
        "a= np.mean((shows[shows.runtime >0]).runtime)\n",
        "    \n",
        "a= int(a)\n",
        "\n",
        "#print\n",
        "print(f'The mean duration for an episode is {a} minutes, the maximum is {b} and minimum is {c}')"
      ]
    },
    {
      "cell_type": "markdown",
      "metadata": {},
      "source": [
        "### Countries where the shows are made"
      ]
    },
    {
      "cell_type": "code",
      "execution_count": 155,
      "metadata": {},
      "outputs": [
        {
          "data": {
            "text/plain": [
              "Text(0.5, 0, 'Production Country')"
            ]
          },
          "execution_count": 155,
          "metadata": {},
          "output_type": "execute_result"
        },
        {
          "data": {
            "image/png": "[encoded data removed]",
            "text/plain": [
              "<Figure size 792x576 with 1 Axes>"
            ]
          },
          "metadata": {},
          "output_type": "display_data"
        }
      ],
      "source": [
        "# create object\n",
        "shows_countries = shows.production_countries.value_counts()\n",
        "\n",
        "# object to df\n",
        "shows_countries = pd.DataFrame(shows_countries)\n",
        "\n",
        "# change column titles\n",
        "shows_countries.rename(columns = {'production_countries':'total_shows'}, inplace = True)\n",
        "\n",
        "#Drop index with empty values\n",
        "shows_countries = shows_countries.drop('[]')\n",
        "\n",
        "# filter top 10 values. \n",
        "top10_countries= shows_countries.head(10)\n",
        "\n",
        "\n",
        "#--------------------\n",
        "#Barchart (seaborn)\n",
        "\n",
        "# Width and height of the figure\n",
        "plt.figure(figsize=(11,8))\n",
        "\n",
        "# Title\n",
        "plt.title(\"TOP 10 shows production countries\")\n",
        "\n",
        "# Bar chart \n",
        "b_top10_countries = sns.barplot(x=top10_countries.index, y=top10_countries[\"total_shows\"], data=top10_countries, ci=None)\n",
        "\n",
        "#Show values\n",
        "# I use pre-made function: \n",
        "show_values(b_top10_countries)\n",
        "\n",
        "# Title y-axis\n",
        "plt.ylabel(\"Total Shows\")\n",
        "plt.xlabel(\"Production Country\")"
      ]
    },
    {
      "cell_type": "code",
      "execution_count": 156,
      "metadata": {},
      "outputs": [
        {
          "name": "stdout",
          "output_type": "stream",
          "text": [
            "The Country with more shows on Netflix is: [\"['US']\"] with a total of 744 shows\n"
          ]
        }
      ],
      "source": [
        "# Printing max category and its value\n",
        "\n",
        "# Category with max \n",
        "max_shows_made_in_country = max(shows_countries.total_shows)\n",
        "\n",
        "#Find index with value: \n",
        "Country_with_max_shows = shows_countries.index[shows_countries['total_shows'] == max_shows_made_in_country].tolist()\n",
        "\n",
        "#temporary print\n",
        "print (f'The Country with more shows on Netflix is: {Country_with_max_shows} with a total of {max_shows_made_in_country} shows')"
      ]
    },
    {
      "cell_type": "markdown",
      "metadata": {},
      "source": [
        "## Movies data"
      ]
    },
    {
      "cell_type": "code",
      "execution_count": 157,
      "metadata": {},
      "outputs": [
        {
          "data": {
            "text/html": [
              "<div>\n",
              "<style scoped>\n",
              "    .dataframe tbody tr th:only-of-type {\n",
              "        vertical-align: middle;\n",
              "    }\n",
              "\n",
              "    .dataframe tbody tr th {\n",
              "        vertical-align: top;\n",
              "    }\n",
              "\n",
              "    .dataframe thead th {\n",
              "        text-align: right;\n",
              "    }\n",
              "</style>\n",
              "<table border=\"1\" class=\"dataframe\">\n",
              "  <thead>\n",
              "    <tr style=\"text-align: right;\">\n",
              "      <th></th>\n",
              "      <th>id</th>\n",
              "      <th>title</th>\n",
              "      <th>type</th>\n",
              "      <th>description</th>\n",
              "      <th>release_year</th>\n",
              "      <th>age_certification</th>\n",
              "      <th>runtime</th>\n",
              "      <th>genres</th>\n",
              "      <th>production_countries</th>\n",
              "      <th>seasons</th>\n",
              "      <th>imdb_id</th>\n",
              "      <th>imdb_score</th>\n",
              "      <th>imdb_votes</th>\n",
              "      <th>tmdb_popularity</th>\n",
              "      <th>tmdb_score</th>\n",
              "    </tr>\n",
              "  </thead>\n",
              "  <tbody>\n",
              "    <tr>\n",
              "      <th>1</th>\n",
              "      <td>tm84618</td>\n",
              "      <td>Taxi Driver</td>\n",
              "      <td>MOVIE</td>\n",
              "      <td>A mentally unstable Vietnam War veteran works ...</td>\n",
              "      <td>1976</td>\n",
              "      <td>R</td>\n",
              "      <td>113</td>\n",
              "      <td>['crime', 'drama']</td>\n",
              "      <td>['US']</td>\n",
              "      <td>NaN</td>\n",
              "      <td>tt0075314</td>\n",
              "      <td>8.3</td>\n",
              "      <td>795222.0</td>\n",
              "      <td>27.612</td>\n",
              "      <td>8.2</td>\n",
              "    </tr>\n",
              "    <tr>\n",
              "      <th>2</th>\n",
              "      <td>tm127384</td>\n",
              "      <td>Monty Python and the Holy Grail</td>\n",
              "      <td>MOVIE</td>\n",
              "      <td>King Arthur, accompanied by his squire, recrui...</td>\n",
              "      <td>1975</td>\n",
              "      <td>PG</td>\n",
              "      <td>91</td>\n",
              "      <td>['comedy', 'fantasy']</td>\n",
              "      <td>['GB']</td>\n",
              "      <td>NaN</td>\n",
              "      <td>tt0071853</td>\n",
              "      <td>8.2</td>\n",
              "      <td>530877.0</td>\n",
              "      <td>18.216</td>\n",
              "      <td>7.8</td>\n",
              "    </tr>\n",
              "    <tr>\n",
              "      <th>3</th>\n",
              "      <td>tm70993</td>\n",
              "      <td>Life of Brian</td>\n",
              "      <td>MOVIE</td>\n",
              "      <td>Brian Cohen is an average young Jewish man, bu...</td>\n",
              "      <td>1979</td>\n",
              "      <td>R</td>\n",
              "      <td>94</td>\n",
              "      <td>['comedy']</td>\n",
              "      <td>['GB']</td>\n",
              "      <td>NaN</td>\n",
              "      <td>tt0079470</td>\n",
              "      <td>8.0</td>\n",
              "      <td>392419.0</td>\n",
              "      <td>17.505</td>\n",
              "      <td>7.8</td>\n",
              "    </tr>\n",
              "    <tr>\n",
              "      <th>4</th>\n",
              "      <td>tm190788</td>\n",
              "      <td>The Exorcist</td>\n",
              "      <td>MOVIE</td>\n",
              "      <td>12-year-old Regan MacNeil begins to adapt an e...</td>\n",
              "      <td>1973</td>\n",
              "      <td>R</td>\n",
              "      <td>133</td>\n",
              "      <td>['horror']</td>\n",
              "      <td>['US']</td>\n",
              "      <td>NaN</td>\n",
              "      <td>tt0070047</td>\n",
              "      <td>8.1</td>\n",
              "      <td>391942.0</td>\n",
              "      <td>95.337</td>\n",
              "      <td>7.7</td>\n",
              "    </tr>\n",
              "    <tr>\n",
              "      <th>6</th>\n",
              "      <td>tm14873</td>\n",
              "      <td>Dirty Harry</td>\n",
              "      <td>MOVIE</td>\n",
              "      <td>When a madman dubbed 'Scorpio' terrorizes San ...</td>\n",
              "      <td>1971</td>\n",
              "      <td>R</td>\n",
              "      <td>102</td>\n",
              "      <td>['thriller', 'crime', 'action']</td>\n",
              "      <td>['US']</td>\n",
              "      <td>NaN</td>\n",
              "      <td>tt0066999</td>\n",
              "      <td>7.7</td>\n",
              "      <td>153463.0</td>\n",
              "      <td>14.745</td>\n",
              "      <td>7.5</td>\n",
              "    </tr>\n",
              "  </tbody>\n",
              "</table>\n",
              "</div>"
            ],
            "text/plain": [
              "         id                            title   type  \\\n",
              "1   tm84618                      Taxi Driver  MOVIE   \n",
              "2  tm127384  Monty Python and the Holy Grail  MOVIE   \n",
              "3   tm70993                    Life of Brian  MOVIE   \n",
              "4  tm190788                     The Exorcist  MOVIE   \n",
              "6   tm14873                      Dirty Harry  MOVIE   \n",
              "\n",
              "                                         description  release_year  \\\n",
              "1  A mentally unstable Vietnam War veteran works ...          1976   \n",
              "2  King Arthur, accompanied by his squire, recrui...          1975   \n",
              "3  Brian Cohen is an average young Jewish man, bu...          1979   \n",
              "4  12-year-old Regan MacNeil begins to adapt an e...          1973   \n",
              "6  When a madman dubbed 'Scorpio' terrorizes San ...          1971   \n",
              "\n",
              "  age_certification  runtime                           genres  \\\n",
              "1                 R      113               ['crime', 'drama']   \n",
              "2                PG       91            ['comedy', 'fantasy']   \n",
              "3                 R       94                       ['comedy']   \n",
              "4                 R      133                       ['horror']   \n",
              "6                 R      102  ['thriller', 'crime', 'action']   \n",
              "\n",
              "  production_countries  seasons    imdb_id  imdb_score  imdb_votes  \\\n",
              "1               ['US']      NaN  tt0075314         8.3    795222.0   \n",
              "2               ['GB']      NaN  tt0071853         8.2    530877.0   \n",
              "3               ['GB']      NaN  tt0079470         8.0    392419.0   \n",
              "4               ['US']      NaN  tt0070047         8.1    391942.0   \n",
              "6               ['US']      NaN  tt0066999         7.7    153463.0   \n",
              "\n",
              "   tmdb_popularity  tmdb_score  \n",
              "1           27.612         8.2  \n",
              "2           18.216         7.8  \n",
              "3           17.505         7.8  \n",
              "4           95.337         7.7  \n",
              "6           14.745         7.5  "
            ]
          },
          "execution_count": 157,
          "metadata": {},
          "output_type": "execute_result"
        }
      ],
      "source": [
        "# New df= filter: only shows\n",
        "movies = title1[title1.type == \"MOVIE\"]\n",
        "movies.head()"
      ]
    },
    {
      "cell_type": "markdown",
      "metadata": {},
      "source": [
        "### Dropping the null values"
      ]
    },
    {
      "cell_type": "code",
      "execution_count": 158,
      "metadata": {},
      "outputs": [
        {
          "data": {
            "text/plain": [
              "id                        0\n",
              "title                     0\n",
              "type                      0\n",
              "description               1\n",
              "release_year              0\n",
              "age_certification       188\n",
              "runtime                   0\n",
              "genres                    0\n",
              "production_countries      0\n",
              "seasons                   0\n",
              "imdb_id                   0\n",
              "imdb_score                0\n",
              "imdb_votes                0\n",
              "tmdb_popularity           0\n",
              "tmdb_score                0\n",
              "dtype: int64"
            ]
          },
          "execution_count": 158,
          "metadata": {},
          "output_type": "execute_result"
        }
      ],
      "source": [
        "# Drop nulls on scores & pop\n",
        "movies_clean = shows.dropna(subset=['imdb_id','imdb_score','imdb_votes','tmdb_popularity','tmdb_score'])\n",
        "movies_clean.isnull().sum()"
      ]
    },
    {
      "cell_type": "markdown",
      "metadata": {},
      "source": [
        "### Correlation using heatmap"
      ]
    },
    {
      "cell_type": "code",
      "execution_count": 159,
      "metadata": {},
      "outputs": [
        {
          "data": {
            "image/png": "[encoded data removed]",
            "text/plain": [
              "<Figure size 792x648 with 2 Axes>"
            ]
          },
          "metadata": {},
          "output_type": "display_data"
        }
      ],
      "source": [
        "corrmat_movies= movies_clean.corr()\n",
        "\n",
        "#Set font size\n",
        "sns.set(font_scale=1.25)\n",
        "\n",
        "#set graph size\n",
        "f, ax = plt.subplots(figsize=(11,9))\n",
        "    # I try to fit the graph in a 100% zoom average monitor. 11 & 9 are usually ok but it depends on the graph and other things. \n",
        "\n",
        "#create corr heatmap\n",
        "hm_movies= sns.heatmap(corrmat_movies,cbar=True, annot=True, square=True, fmt= \".2f\", annot_kws={\"size\":10,},yticklabels= corrmat_movies.index, xticklabels=corrmat_movies.index)\n",
        "    \n",
        "#Show heatmap\n",
        "plt.show()"
      ]
    },
    {
      "cell_type": "markdown",
      "metadata": {},
      "source": [
        "#OBSERVATIONS: \n",
        "\n",
        "1. The 2 different scores: imdb and tmdb have a weak/normal correlation , which is ilogical. A good movie should have similar score platform independent. \n",
        "2. Number of seasons has a small correlation with tmdb_popularity whichs sounds logical. High Popularity should infer more seasons. But, surprisingly it has almost none with score. This will be analyzed in detail later.\n",
        "3. Release_year doesnt affect popularity or score. The same goes for \"runtime\"\n",
        "4. imdb_votes has correlations with 2 other variables but too small. It is somehow similar to tmdb_popularity."
      ]
    },
    {
      "cell_type": "markdown",
      "metadata": {},
      "source": [
        "### Release years of various movies"
      ]
    },
    {
      "cell_type": "code",
      "execution_count": 160,
      "metadata": {},
      "outputs": [
        {
          "data": {
            "image/png": "[encoded data removed]",
            "text/plain": [
              "<Figure size 720x648 with 1 Axes>"
            ]
          },
          "metadata": {},
          "output_type": "display_data"
        }
      ],
      "source": [
        "#The following code acts as a groupby + count:\n",
        "movies_per_year = movies.release_year.value_counts()\n",
        "#check\n",
        "#shows_per_year.head()\n",
        "\n",
        "# transform object into df\n",
        "movies_per_year = pd.DataFrame(movies_per_year)\n",
        "\n",
        "\n",
        "# change column titles\n",
        "movies_per_year.rename(columns = {'release_year':'total_movies'}, inplace = True)\n",
        "\n",
        "#------------------------------\n",
        "# line graph\n",
        "\n",
        "plt.figure(figsize=(10, 9))\n",
        "sns.lineplot(data= movies_per_year)\n",
        "plt.title('Netflix´s movies release date (1940-2021)')\n",
        "plt.xlim(1940, 2021)\n",
        "plt.xlabel('Year released')\n",
        "plt.ylabel('Total Movies on Netflix')\n",
        "plt.show()"
      ]
    },
    {
      "cell_type": "markdown",
      "metadata": {},
      "source": [
        " The years in which highest number of shows were released are analysed separately"
      ]
    },
    {
      "cell_type": "code",
      "execution_count": 161,
      "metadata": {},
      "outputs": [
        {
          "data": {
            "image/png": "[encoded data removed]",
            "text/plain": [
              "<Figure size 720x648 with 1 Axes>"
            ]
          },
          "metadata": {},
          "output_type": "display_data"
        }
      ],
      "source": [
        "# Between 2000 and 2021\n",
        "plt.figure(figsize=(10, 9))\n",
        "sns.lineplot(data= movies_per_year)\n",
        "plt.title('Netflix´s movies release date (2000-2021)')\n",
        "plt.xlim(2000, 2021)\n",
        "plt.xlabel('Year released')\n",
        "plt.ylabel('Total Movies on Netflix')\n",
        "plt.show()"
      ]
    },
    {
      "cell_type": "markdown",
      "metadata": {},
      "source": [
        "Priting the year in which maximum number of shows were released"
      ]
    },
    {
      "cell_type": "code",
      "execution_count": 162,
      "metadata": {},
      "outputs": [
        {
          "name": "stdout",
          "output_type": "stream",
          "text": [
            " Most Netflix´s movies were released on: [2019] with a total of 540 movies\n"
          ]
        }
      ],
      "source": [
        "max_movies = max(movies_per_year.total_movies)\n",
        "\n",
        "# Year with max value\n",
        "#Find index with value: \n",
        "year_with_max_movies= movies_per_year.index[movies_per_year['total_movies'] == max_movies].tolist()\n",
        "# This code returns all the indexes with that value, this would be a problem if there were 2 years with identical values. \n",
        "\n",
        "#temporary print\n",
        "print (f' Most Netflix´s movies were released on: {year_with_max_movies} with a total of {max_movies} movies')"
      ]
    },
    {
      "cell_type": "markdown",
      "metadata": {},
      "source": [
        "### No.of movies per age certification"
      ]
    },
    {
      "cell_type": "code",
      "execution_count": 163,
      "metadata": {},
      "outputs": [],
      "source": [
        "def movie_values(axs, orient=\"v\", space=.01):\n",
        "    def _single(ax):\n",
        "        if orient == \"v\":\n",
        "            for p in ax.patches:\n",
        "                _x = p.get_x() + p.get_width() / 2\n",
        "                _y = p.get_y() + p.get_height() + (p.get_height()*0.01)\n",
        "                value = '{:.1f}'.format(p.get_height())\n",
        "                ax.text(_x, _y, value, ha=\"center\") \n",
        "        elif orient == \"h\":\n",
        "            for p in ax.patches:\n",
        "                _x = p.get_x() + p.get_width() + float(space)\n",
        "                _y = p.get_y() + p.get_height() - (p.get_height()*0.5)\n",
        "                value = '{:.1f}'.format(p.get_width())\n",
        "                ax.text(_x, _y, value, ha=\"left\")\n",
        "\n",
        "    if isinstance(axs, np.ndarray):\n",
        "        for idx, ax in np.ndenumerate(axs):\n",
        "            _single(ax)\n",
        "    else:\n",
        "        _single(axs)"
      ]
    },
    {
      "cell_type": "code",
      "execution_count": 164,
      "metadata": {},
      "outputs": [
        {
          "data": {
            "text/plain": [
              "Text(0.5, 0, 'Age Certification')"
            ]
          },
          "execution_count": 164,
          "metadata": {},
          "output_type": "execute_result"
        },
        {
          "data": {
            "image/png": "[encoded data removed]",
            "text/plain": [
              "<Figure size 792x576 with 1 Axes>"
            ]
          },
          "metadata": {},
          "output_type": "display_data"
        }
      ],
      "source": [
        "movies_certification = movies.age_certification.value_counts()\n",
        "\n",
        "# transform object into df\n",
        "movies_certification = pd.DataFrame(movies_certification)\n",
        "\n",
        "# change column titles\n",
        "movies_certification.rename(columns = {'age_certification':'total_movies'}, inplace = True)\n",
        "\n",
        "#--------------------\n",
        "#Barchart (seaborn)\n",
        "\n",
        "# Width and height of the figure\n",
        "plt.figure(figsize=(11,8))\n",
        "\n",
        "# Title\n",
        "plt.title(\"Movies per age certification\")\n",
        "\n",
        "# Bar chart \n",
        "b_movies_certification = sns.barplot(x=movies_certification.index, y=movies_certification[\"total_movies\"], data=movies_certification, ci=None)\n",
        "\n",
        "#Show values: I use pre-made function (show_values) \n",
        "show_values(b_movies_certification)\n",
        "\n",
        "# Title y-axis\n",
        "plt.ylabel(\"Total Movies\")\n",
        "plt.xlabel(\"Age Certification\")"
      ]
    },
    {
      "cell_type": "code",
      "execution_count": 165,
      "metadata": {},
      "outputs": [
        {
          "name": "stdout",
          "output_type": "stream",
          "text": [
            "The category with more movies is: ['R'] with a total of 575 movies\n"
          ]
        }
      ],
      "source": [
        "# Printing max category and its value\n",
        "\n",
        "# Category with max \n",
        "max_movies_in_category = max(movies_certification.total_movies)\n",
        "\n",
        "#Find index with value: \n",
        "category_with_max_movies= movies_certification.index[movies_certification['total_movies'] == max_movies_in_category].tolist()\n",
        "\n",
        "#temporary print\n",
        "print (f'The category with more movies is: {category_with_max_movies} with a total of {max_movies_in_category} movies')"
      ]
    },
    {
      "cell_type": "markdown",
      "metadata": {},
      "source": [
        "### Average run time of the movies"
      ]
    },
    {
      "cell_type": "code",
      "execution_count": 166,
      "metadata": {},
      "outputs": [
        {
          "name": "stdout",
          "output_type": "stream",
          "text": [
            "The mean duration for a movie is 98 minutes, the maximum is 251 and minimum is 3\n"
          ]
        }
      ],
      "source": [
        "# max\n",
        "b= max(movies.runtime)\n",
        "\n",
        "# min \n",
        "c= min((movies[movies.runtime >0]).runtime)\n",
        "\n",
        "# mean\n",
        "a= np.mean((movies[movies.runtime >0]).runtime)\n",
        "     \n",
        "a= int(a)\n",
        "\n",
        "#print\n",
        "print(f'The mean duration for a movie is {a} minutes, the maximum is {b} and minimum is {c}')"
      ]
    },
    {
      "cell_type": "markdown",
      "metadata": {},
      "source": [
        "### Countries where the shows are made"
      ]
    },
    {
      "cell_type": "code",
      "execution_count": 167,
      "metadata": {},
      "outputs": [
        {
          "data": {
            "text/plain": [
              "Text(0.5, 0, 'Production Country')"
            ]
          },
          "execution_count": 167,
          "metadata": {},
          "output_type": "execute_result"
        },
        {
          "data": {
            "image/png": "[encoded data removed]",
            "text/plain": [
              "<Figure size 792x576 with 1 Axes>"
            ]
          },
          "metadata": {},
          "output_type": "display_data"
        }
      ],
      "source": [
        "# create object\n",
        "movies_countries = movies.production_countries.value_counts()\n",
        "\n",
        "# object to df\n",
        "movies_countries = pd.DataFrame(movies_countries)\n",
        "\n",
        "# change column titles\n",
        "movies_countries.rename(columns = {'production_countries':'total_movies'}, inplace = True)\n",
        "\n",
        "#Drop index with empty values\n",
        "movies_countries = movies_countries.drop('[]')\n",
        "\n",
        "# filter top 10 values. \n",
        "top10_countries= movies_countries.head(10)\n",
        "\n",
        "\n",
        "#--------------------\n",
        "#Barchart (seaborn)\n",
        "\n",
        "# Width and height of the figure\n",
        "plt.figure(figsize=(11,8))\n",
        "\n",
        "# Title\n",
        "plt.title(\"TOP 10 movies production countries\")\n",
        "\n",
        "# Bar chart \n",
        "bar_top10_countries = sns.barplot(x=top10_countries.index, y=top10_countries[\"total_movies\"], data=top10_countries, ci=None)\n",
        "\n",
        "#Show values\n",
        "# I use pre-made function: \n",
        "movie_values(bar_top10_countries)\n",
        "\n",
        "# Title y-axis\n",
        "plt.ylabel(\"Total Movies\")\n",
        "plt.xlabel(\"Production Country\")"
      ]
    },
    {
      "cell_type": "code",
      "execution_count": 168,
      "metadata": {},
      "outputs": [
        {
          "name": "stdout",
          "output_type": "stream",
          "text": [
            "The Country with more movies on Netflix is: [\"['US']\"] with a total of 1206 movies\n"
          ]
        }
      ],
      "source": [
        "# Printing max category and its value\n",
        "\n",
        "# Category with max \n",
        "max_movies_made_in_country = max(movies_countries.total_movies)\n",
        "\n",
        "#Find index with value: \n",
        "Country_with_max_movies = movies_countries.index[movies_countries['total_movies'] == max_movies_made_in_country].tolist()\n",
        "\n",
        "#temporary print\n",
        "print (f'The Country with more movies on Netflix is: {Country_with_max_movies} with a total of {max_movies_made_in_country} movies')"
      ]
    },
    {
      "cell_type": "markdown",
      "metadata": {
        "id": "_kht9zaEVxPa"
      },
      "source": [
        "# Recommendation system "
      ]
    },
    {
      "cell_type": "markdown",
      "metadata": {
        "id": "cciVF5giWdYH"
      },
      "source": [
        "The raw data can be used with K Nearest Neighbors in order to make predictions. K Nearest Neighbors is a good model for this project since its main assumption is that data points that are close to each other are alike. Which should hold as many of the attributes such as genre, release year, IMDb score, and whether or not it is a movie or tv show should ensure that similar titles are close to one another and allow recommendations to be made by selecting titles closest to that specific title."
      ]
    },
    {
      "cell_type": "markdown",
      "metadata": {
        "id": "gCrdXxKFqDmQ"
      },
      "source": [
        "## Data cleaning"
      ]
    },
    {
      "cell_type": "markdown",
      "metadata": {
        "id": "qIjTa4q3qFjy"
      },
      "source": [
        "Here, we have many nulls in different columns, more than 10% of total rows. A common practice is to drop them all. But this is not the case. We would have very few rows remaining."
      ]
    },
    {
      "cell_type": "markdown",
      "metadata": {
        "id": "0gHFlk0gu53u"
      },
      "source": [
        "In the following sections, we will use feature engineering and cleaning methods to prepare a dataset from the raw data which is further used in making a recommender system"
      ]
    },
    {
      "cell_type": "markdown",
      "metadata": {
        "id": "5lDCnyQ5vdSA"
      },
      "source": [
        "### Sorting and cleaning based on unique genres"
      ]
    },
    {
      "cell_type": "markdown",
      "metadata": {
        "id": "EDQH8nKqvOI2"
      },
      "source": [
        "In this section, we clean the genres column and output all of the unique genres that show up in the genres column. With this we engineer new columns that contain 1 (True) and 0 (False) if that specific genre is listed in the genres column. "
      ]
    },
    {
      "cell_type": "code",
      "execution_count": null,
      "metadata": {
        "id": "waCHpkgaoNn5"
      },
      "outputs": [
        {
          "name": "stdout",
          "output_type": "stream",
          "text": [
            "\n",
            "western\n",
            "reality\n",
            "comedy\n",
            "thriller\n",
            "war\n",
            "scifi\n",
            "animation\n",
            "horror\n",
            "european\n",
            "drama\n",
            "fantasy\n",
            "crime\n",
            "music\n",
            "sport\n",
            "action\n",
            "history\n",
            "family\n",
            "documentation\n",
            "romance\n"
          ]
        }
      ],
      "source": [
        "# Finding all the unique genres\n",
        "array = title.genres.to_list()\n",
        "\n",
        "array1 = [s.strip(\"[]\") for s in array]\n",
        "\n",
        "lst = []\n",
        "for i in range(len(array1)):\n",
        "    lst.append(array1[i].split(','))\n",
        "\n",
        "result = list({x for l in lst for x in l})\n",
        "\n",
        "result1 = [s.strip(\"' \") for s in result]\n",
        "\n",
        "# function to get unique values\n",
        "def unique(list1):\n",
        "      \n",
        "    # insert the list to the set\n",
        "    list_set = set(list1)\n",
        "    # convert the set to the list\n",
        "    unique_list = (list(list_set))\n",
        "    for x in unique_list:\n",
        "        print(x),\n",
        "\n",
        "results = unique(result1)"
      ]
    },
    {
      "cell_type": "code",
      "execution_count": null,
      "metadata": {
        "id": "WqnxBdTewd5O"
      },
      "outputs": [
        {
          "data": {
            "text/html": [
              "<div>\n",
              "<style scoped>\n",
              "    .dataframe tbody tr th:only-of-type {\n",
              "        vertical-align: middle;\n",
              "    }\n",
              "\n",
              "    .dataframe tbody tr th {\n",
              "        vertical-align: top;\n",
              "    }\n",
              "\n",
              "    .dataframe thead th {\n",
              "        text-align: right;\n",
              "    }\n",
              "</style>\n",
              "<table border=\"1\" class=\"dataframe\">\n",
              "  <thead>\n",
              "    <tr style=\"text-align: right;\">\n",
              "      <th></th>\n",
              "      <th>id</th>\n",
              "      <th>title</th>\n",
              "      <th>type</th>\n",
              "      <th>description</th>\n",
              "      <th>release_year</th>\n",
              "      <th>age_certification</th>\n",
              "      <th>runtime</th>\n",
              "      <th>genres</th>\n",
              "      <th>production_countries</th>\n",
              "      <th>seasons</th>\n",
              "      <th>...</th>\n",
              "      <th>scifi</th>\n",
              "      <th>music</th>\n",
              "      <th>fantasy</th>\n",
              "      <th>western</th>\n",
              "      <th>thriller</th>\n",
              "      <th>documentation</th>\n",
              "      <th>crime</th>\n",
              "      <th>action</th>\n",
              "      <th>war</th>\n",
              "      <th>romance</th>\n",
              "    </tr>\n",
              "  </thead>\n",
              "  <tbody>\n",
              "    <tr>\n",
              "      <th>0</th>\n",
              "      <td>ts300399</td>\n",
              "      <td>Five Came Back: The Reference Films</td>\n",
              "      <td>SHOW</td>\n",
              "      <td>This collection includes 12 World War II-era p...</td>\n",
              "      <td>1945</td>\n",
              "      <td>TV-MA</td>\n",
              "      <td>48</td>\n",
              "      <td>['documentation']</td>\n",
              "      <td>['US']</td>\n",
              "      <td>1.0</td>\n",
              "      <td>...</td>\n",
              "      <td>0</td>\n",
              "      <td>0</td>\n",
              "      <td>0</td>\n",
              "      <td>0</td>\n",
              "      <td>0</td>\n",
              "      <td>1</td>\n",
              "      <td>0</td>\n",
              "      <td>0</td>\n",
              "      <td>0</td>\n",
              "      <td>0</td>\n",
              "    </tr>\n",
              "    <tr>\n",
              "      <th>1</th>\n",
              "      <td>tm84618</td>\n",
              "      <td>Taxi Driver</td>\n",
              "      <td>MOVIE</td>\n",
              "      <td>A mentally unstable Vietnam War veteran works ...</td>\n",
              "      <td>1976</td>\n",
              "      <td>R</td>\n",
              "      <td>113</td>\n",
              "      <td>['crime', 'drama']</td>\n",
              "      <td>['US']</td>\n",
              "      <td>NaN</td>\n",
              "      <td>...</td>\n",
              "      <td>0</td>\n",
              "      <td>0</td>\n",
              "      <td>0</td>\n",
              "      <td>0</td>\n",
              "      <td>0</td>\n",
              "      <td>0</td>\n",
              "      <td>1</td>\n",
              "      <td>0</td>\n",
              "      <td>0</td>\n",
              "      <td>0</td>\n",
              "    </tr>\n",
              "    <tr>\n",
              "      <th>2</th>\n",
              "      <td>tm127384</td>\n",
              "      <td>Monty Python and the Holy Grail</td>\n",
              "      <td>MOVIE</td>\n",
              "      <td>King Arthur, accompanied by his squire, recrui...</td>\n",
              "      <td>1975</td>\n",
              "      <td>PG</td>\n",
              "      <td>91</td>\n",
              "      <td>['comedy', 'fantasy']</td>\n",
              "      <td>['GB']</td>\n",
              "      <td>NaN</td>\n",
              "      <td>...</td>\n",
              "      <td>0</td>\n",
              "      <td>0</td>\n",
              "      <td>1</td>\n",
              "      <td>0</td>\n",
              "      <td>0</td>\n",
              "      <td>0</td>\n",
              "      <td>0</td>\n",
              "      <td>0</td>\n",
              "      <td>0</td>\n",
              "      <td>0</td>\n",
              "    </tr>\n",
              "    <tr>\n",
              "      <th>3</th>\n",
              "      <td>tm70993</td>\n",
              "      <td>Life of Brian</td>\n",
              "      <td>MOVIE</td>\n",
              "      <td>Brian Cohen is an average young Jewish man, bu...</td>\n",
              "      <td>1979</td>\n",
              "      <td>R</td>\n",
              "      <td>94</td>\n",
              "      <td>['comedy']</td>\n",
              "      <td>['GB']</td>\n",
              "      <td>NaN</td>\n",
              "      <td>...</td>\n",
              "      <td>0</td>\n",
              "      <td>0</td>\n",
              "      <td>0</td>\n",
              "      <td>0</td>\n",
              "      <td>0</td>\n",
              "      <td>0</td>\n",
              "      <td>0</td>\n",
              "      <td>0</td>\n",
              "      <td>0</td>\n",
              "      <td>0</td>\n",
              "    </tr>\n",
              "    <tr>\n",
              "      <th>4</th>\n",
              "      <td>tm190788</td>\n",
              "      <td>The Exorcist</td>\n",
              "      <td>MOVIE</td>\n",
              "      <td>12-year-old Regan MacNeil begins to adapt an e...</td>\n",
              "      <td>1973</td>\n",
              "      <td>R</td>\n",
              "      <td>133</td>\n",
              "      <td>['horror']</td>\n",
              "      <td>['US']</td>\n",
              "      <td>NaN</td>\n",
              "      <td>...</td>\n",
              "      <td>0</td>\n",
              "      <td>0</td>\n",
              "      <td>0</td>\n",
              "      <td>0</td>\n",
              "      <td>0</td>\n",
              "      <td>0</td>\n",
              "      <td>0</td>\n",
              "      <td>0</td>\n",
              "      <td>0</td>\n",
              "      <td>0</td>\n",
              "    </tr>\n",
              "  </tbody>\n",
              "</table>\n",
              "<p>5 rows × 34 columns</p>\n",
              "</div>"
            ],
            "text/plain": [
              "         id                                title   type  \\\n",
              "0  ts300399  Five Came Back: The Reference Films   SHOW   \n",
              "1   tm84618                          Taxi Driver  MOVIE   \n",
              "2  tm127384      Monty Python and the Holy Grail  MOVIE   \n",
              "3   tm70993                        Life of Brian  MOVIE   \n",
              "4  tm190788                         The Exorcist  MOVIE   \n",
              "\n",
              "                                         description  release_year  \\\n",
              "0  This collection includes 12 World War II-era p...          1945   \n",
              "1  A mentally unstable Vietnam War veteran works ...          1976   \n",
              "2  King Arthur, accompanied by his squire, recrui...          1975   \n",
              "3  Brian Cohen is an average young Jewish man, bu...          1979   \n",
              "4  12-year-old Regan MacNeil begins to adapt an e...          1973   \n",
              "\n",
              "  age_certification  runtime                 genres production_countries  \\\n",
              "0             TV-MA       48      ['documentation']               ['US']   \n",
              "1                 R      113     ['crime', 'drama']               ['US']   \n",
              "2                PG       91  ['comedy', 'fantasy']               ['GB']   \n",
              "3                 R       94             ['comedy']               ['GB']   \n",
              "4                 R      133             ['horror']               ['US']   \n",
              "\n",
              "   seasons  ... scifi  music  fantasy  western  thriller  documentation  \\\n",
              "0      1.0  ...     0      0        0        0         0              1   \n",
              "1      NaN  ...     0      0        0        0         0              0   \n",
              "2      NaN  ...     0      0        1        0         0              0   \n",
              "3      NaN  ...     0      0        0        0         0              0   \n",
              "4      NaN  ...     0      0        0        0         0              0   \n",
              "\n",
              "   crime  action  war  romance  \n",
              "0      0       0    0        0  \n",
              "1      1       0    0        0  \n",
              "2      0       0    0        0  \n",
              "3      0       0    0        0  \n",
              "4      0       0    0        0  \n",
              "\n",
              "[5 rows x 34 columns]"
            ]
          },
          "metadata": {},
          "output_type": "display_data"
        }
      ],
      "source": [
        "# Creating indictor columns for each genre\n",
        "title['horror'] = title['genres'].str.contains('horror').astype('int')\n",
        "title['history'] = title['genres'].str.contains('history').astype('int')\n",
        "title['european'] = title['genres'].str.contains('european').astype('int')\n",
        "title['sport'] = title['genres'].str.contains('sport').astype('int')\n",
        "title['family'] = title['genres'].str.contains('family').astype('int')\n",
        "title['reality'] = title['genres'].str.contains('reality').astype('int')\n",
        "title['drama'] = title['genres'].str.contains('drama').astype('int')\n",
        "title['animation'] = title['genres'].str.contains('animation').astype('int')\n",
        "title['comedy'] = title['genres'].str.contains('comedy').astype('int')\n",
        "title['scifi'] = title['genres'].str.contains('scifi').astype('int')\n",
        "title['music'] = title['genres'].str.contains('music').astype('int')\n",
        "title['fantasy'] = title['genres'].str.contains('fantasy').astype('int')\n",
        "title['western'] = title['genres'].str.contains('western').astype('int')\n",
        "title['thriller'] = title['genres'].str.contains('thriller').astype('int')\n",
        "title['documentation'] = title['genres'].str.contains('documentation').astype('int')\n",
        "title['crime'] = title['genres'].str.contains('crime').astype('int')\n",
        "title['action'] = title['genres'].str.contains('action').astype('int')\n",
        "title['war'] = title['genres'].str.contains('war').astype('int')\n",
        "title['romance'] =title['genres'].str.contains('romance').astype('int')\n",
        "title.head()"
      ]
    },
    {
      "cell_type": "markdown",
      "metadata": {
        "id": "Z5KeSgqOV2bs"
      },
      "source": [
        "### Indicators for the type"
      ]
    },
    {
      "cell_type": "markdown",
      "metadata": {
        "id": "81i77mm5xmIy"
      },
      "source": [
        "Since there are only 2 unique values in 'type' column - show and movie,these two columns with 1 and 0 denoting True and False are created."
      ]
    },
    {
      "cell_type": "code",
      "execution_count": null,
      "metadata": {
        "id": "BYTs9YRsyIv2"
      },
      "outputs": [
        {
          "data": {
            "text/html": [
              "<div>\n",
              "<style scoped>\n",
              "    .dataframe tbody tr th:only-of-type {\n",
              "        vertical-align: middle;\n",
              "    }\n",
              "\n",
              "    .dataframe tbody tr th {\n",
              "        vertical-align: top;\n",
              "    }\n",
              "\n",
              "    .dataframe thead th {\n",
              "        text-align: right;\n",
              "    }\n",
              "</style>\n",
              "<table border=\"1\" class=\"dataframe\">\n",
              "  <thead>\n",
              "    <tr style=\"text-align: right;\">\n",
              "      <th></th>\n",
              "      <th>id</th>\n",
              "      <th>title</th>\n",
              "      <th>description</th>\n",
              "      <th>release_year</th>\n",
              "      <th>age_certification</th>\n",
              "      <th>runtime</th>\n",
              "      <th>genres</th>\n",
              "      <th>production_countries</th>\n",
              "      <th>seasons</th>\n",
              "      <th>imdb_id</th>\n",
              "      <th>...</th>\n",
              "      <th>fantasy</th>\n",
              "      <th>western</th>\n",
              "      <th>thriller</th>\n",
              "      <th>documentation</th>\n",
              "      <th>crime</th>\n",
              "      <th>action</th>\n",
              "      <th>war</th>\n",
              "      <th>romance</th>\n",
              "      <th>movie</th>\n",
              "      <th>show</th>\n",
              "    </tr>\n",
              "  </thead>\n",
              "  <tbody>\n",
              "    <tr>\n",
              "      <th>0</th>\n",
              "      <td>ts300399</td>\n",
              "      <td>Five Came Back: The Reference Films</td>\n",
              "      <td>This collection includes 12 World War II-era p...</td>\n",
              "      <td>1945</td>\n",
              "      <td>TV-MA</td>\n",
              "      <td>48</td>\n",
              "      <td>['documentation']</td>\n",
              "      <td>['US']</td>\n",
              "      <td>1.0</td>\n",
              "      <td>NaN</td>\n",
              "      <td>...</td>\n",
              "      <td>0</td>\n",
              "      <td>0</td>\n",
              "      <td>0</td>\n",
              "      <td>1</td>\n",
              "      <td>0</td>\n",
              "      <td>0</td>\n",
              "      <td>0</td>\n",
              "      <td>0</td>\n",
              "      <td>0</td>\n",
              "      <td>1</td>\n",
              "    </tr>\n",
              "    <tr>\n",
              "      <th>1</th>\n",
              "      <td>tm84618</td>\n",
              "      <td>Taxi Driver</td>\n",
              "      <td>A mentally unstable Vietnam War veteran works ...</td>\n",
              "      <td>1976</td>\n",
              "      <td>R</td>\n",
              "      <td>113</td>\n",
              "      <td>['crime', 'drama']</td>\n",
              "      <td>['US']</td>\n",
              "      <td>NaN</td>\n",
              "      <td>tt0075314</td>\n",
              "      <td>...</td>\n",
              "      <td>0</td>\n",
              "      <td>0</td>\n",
              "      <td>0</td>\n",
              "      <td>0</td>\n",
              "      <td>1</td>\n",
              "      <td>0</td>\n",
              "      <td>0</td>\n",
              "      <td>0</td>\n",
              "      <td>1</td>\n",
              "      <td>0</td>\n",
              "    </tr>\n",
              "    <tr>\n",
              "      <th>2</th>\n",
              "      <td>tm127384</td>\n",
              "      <td>Monty Python and the Holy Grail</td>\n",
              "      <td>King Arthur, accompanied by his squire, recrui...</td>\n",
              "      <td>1975</td>\n",
              "      <td>PG</td>\n",
              "      <td>91</td>\n",
              "      <td>['comedy', 'fantasy']</td>\n",
              "      <td>['GB']</td>\n",
              "      <td>NaN</td>\n",
              "      <td>tt0071853</td>\n",
              "      <td>...</td>\n",
              "      <td>1</td>\n",
              "      <td>0</td>\n",
              "      <td>0</td>\n",
              "      <td>0</td>\n",
              "      <td>0</td>\n",
              "      <td>0</td>\n",
              "      <td>0</td>\n",
              "      <td>0</td>\n",
              "      <td>1</td>\n",
              "      <td>0</td>\n",
              "    </tr>\n",
              "    <tr>\n",
              "      <th>3</th>\n",
              "      <td>tm70993</td>\n",
              "      <td>Life of Brian</td>\n",
              "      <td>Brian Cohen is an average young Jewish man, bu...</td>\n",
              "      <td>1979</td>\n",
              "      <td>R</td>\n",
              "      <td>94</td>\n",
              "      <td>['comedy']</td>\n",
              "      <td>['GB']</td>\n",
              "      <td>NaN</td>\n",
              "      <td>tt0079470</td>\n",
              "      <td>...</td>\n",
              "      <td>0</td>\n",
              "      <td>0</td>\n",
              "      <td>0</td>\n",
              "      <td>0</td>\n",
              "      <td>0</td>\n",
              "      <td>0</td>\n",
              "      <td>0</td>\n",
              "      <td>0</td>\n",
              "      <td>1</td>\n",
              "      <td>0</td>\n",
              "    </tr>\n",
              "    <tr>\n",
              "      <th>4</th>\n",
              "      <td>tm190788</td>\n",
              "      <td>The Exorcist</td>\n",
              "      <td>12-year-old Regan MacNeil begins to adapt an e...</td>\n",
              "      <td>1973</td>\n",
              "      <td>R</td>\n",
              "      <td>133</td>\n",
              "      <td>['horror']</td>\n",
              "      <td>['US']</td>\n",
              "      <td>NaN</td>\n",
              "      <td>tt0070047</td>\n",
              "      <td>...</td>\n",
              "      <td>0</td>\n",
              "      <td>0</td>\n",
              "      <td>0</td>\n",
              "      <td>0</td>\n",
              "      <td>0</td>\n",
              "      <td>0</td>\n",
              "      <td>0</td>\n",
              "      <td>0</td>\n",
              "      <td>1</td>\n",
              "      <td>0</td>\n",
              "    </tr>\n",
              "  </tbody>\n",
              "</table>\n",
              "<p>5 rows × 35 columns</p>\n",
              "</div>"
            ],
            "text/plain": [
              "         id                                title  \\\n",
              "0  ts300399  Five Came Back: The Reference Films   \n",
              "1   tm84618                          Taxi Driver   \n",
              "2  tm127384      Monty Python and the Holy Grail   \n",
              "3   tm70993                        Life of Brian   \n",
              "4  tm190788                         The Exorcist   \n",
              "\n",
              "                                         description  release_year  \\\n",
              "0  This collection includes 12 World War II-era p...          1945   \n",
              "1  A mentally unstable Vietnam War veteran works ...          1976   \n",
              "2  King Arthur, accompanied by his squire, recrui...          1975   \n",
              "3  Brian Cohen is an average young Jewish man, bu...          1979   \n",
              "4  12-year-old Regan MacNeil begins to adapt an e...          1973   \n",
              "\n",
              "  age_certification  runtime                 genres production_countries  \\\n",
              "0             TV-MA       48      ['documentation']               ['US']   \n",
              "1                 R      113     ['crime', 'drama']               ['US']   \n",
              "2                PG       91  ['comedy', 'fantasy']               ['GB']   \n",
              "3                 R       94             ['comedy']               ['GB']   \n",
              "4                 R      133             ['horror']               ['US']   \n",
              "\n",
              "   seasons    imdb_id  ...  fantasy  western  thriller  documentation  crime  \\\n",
              "0      1.0        NaN  ...        0        0         0              1      0   \n",
              "1      NaN  tt0075314  ...        0        0         0              0      1   \n",
              "2      NaN  tt0071853  ...        1        0         0              0      0   \n",
              "3      NaN  tt0079470  ...        0        0         0              0      0   \n",
              "4      NaN  tt0070047  ...        0        0         0              0      0   \n",
              "\n",
              "   action  war  romance  movie  show  \n",
              "0       0    0        0      0     1  \n",
              "1       0    0        0      1     0  \n",
              "2       0    0        0      1     0  \n",
              "3       0    0        0      1     0  \n",
              "4       0    0        0      1     0  \n",
              "\n",
              "[5 rows x 35 columns]"
            ]
          },
          "metadata": {},
          "output_type": "display_data"
        }
      ],
      "source": [
        "# creating indicator columns for show or movie\n",
        "title['movie'] = title['type'].str.contains('MOVIE').astype('int')\n",
        "title['show'] = title['type'].str.contains('SHOW').astype('int')\n",
        "title = title.drop(columns = 'type')\n",
        "\n",
        "title.head()"
      ]
    },
    {
      "cell_type": "markdown",
      "metadata": {
        "id": "Zjbq6_rFUixL"
      },
      "source": [
        "In the section below more indicator columns are made for each unique age certification level. Since there were many missing values in the age certification column missing values are denoted with 1 in the not rated indicator column."
      ]
    },
    {
      "cell_type": "markdown",
      "metadata": {
        "id": "h8iQ36RAV9DY"
      },
      "source": [
        "### Indicators for age certification"
      ]
    },
    {
      "cell_type": "code",
      "execution_count": null,
      "metadata": {
        "id": "GpLCcCaiyd7U"
      },
      "outputs": [
        {
          "name": "stdout",
          "output_type": "stream",
          "text": [
            "PG\n",
            "TV-14\n",
            "NC-17\n",
            "PG-13\n",
            "TV-MA\n",
            "TV-Y7\n",
            "TV-G\n",
            "G\n",
            "R\n",
            "TV-PG\n",
            "nan\n",
            "TV-Y\n"
          ]
        },
        {
          "data": {
            "text/html": [
              "<div>\n",
              "<style scoped>\n",
              "    .dataframe tbody tr th:only-of-type {\n",
              "        vertical-align: middle;\n",
              "    }\n",
              "\n",
              "    .dataframe tbody tr th {\n",
              "        vertical-align: top;\n",
              "    }\n",
              "\n",
              "    .dataframe thead th {\n",
              "        text-align: right;\n",
              "    }\n",
              "</style>\n",
              "<table border=\"1\" class=\"dataframe\">\n",
              "  <thead>\n",
              "    <tr style=\"text-align: right;\">\n",
              "      <th></th>\n",
              "      <th>id</th>\n",
              "      <th>title</th>\n",
              "      <th>description</th>\n",
              "      <th>release_year</th>\n",
              "      <th>runtime</th>\n",
              "      <th>genres</th>\n",
              "      <th>production_countries</th>\n",
              "      <th>seasons</th>\n",
              "      <th>imdb_id</th>\n",
              "      <th>imdb_score</th>\n",
              "      <th>...</th>\n",
              "      <th>TV-PG</th>\n",
              "      <th>PG</th>\n",
              "      <th>R</th>\n",
              "      <th>TV-14</th>\n",
              "      <th>PG-13</th>\n",
              "      <th>TV-Y7</th>\n",
              "      <th>NC-17</th>\n",
              "      <th>G</th>\n",
              "      <th>TV-G</th>\n",
              "      <th>TV-MA</th>\n",
              "    </tr>\n",
              "  </thead>\n",
              "  <tbody>\n",
              "    <tr>\n",
              "      <th>0</th>\n",
              "      <td>ts300399</td>\n",
              "      <td>Five Came Back: The Reference Films</td>\n",
              "      <td>This collection includes 12 World War II-era p...</td>\n",
              "      <td>1945</td>\n",
              "      <td>48</td>\n",
              "      <td>['documentation']</td>\n",
              "      <td>['US']</td>\n",
              "      <td>1.0</td>\n",
              "      <td>NaN</td>\n",
              "      <td>NaN</td>\n",
              "      <td>...</td>\n",
              "      <td>0</td>\n",
              "      <td>0</td>\n",
              "      <td>0</td>\n",
              "      <td>0</td>\n",
              "      <td>0</td>\n",
              "      <td>0</td>\n",
              "      <td>0</td>\n",
              "      <td>0</td>\n",
              "      <td>0</td>\n",
              "      <td>1</td>\n",
              "    </tr>\n",
              "    <tr>\n",
              "      <th>1</th>\n",
              "      <td>tm84618</td>\n",
              "      <td>Taxi Driver</td>\n",
              "      <td>A mentally unstable Vietnam War veteran works ...</td>\n",
              "      <td>1976</td>\n",
              "      <td>113</td>\n",
              "      <td>['crime', 'drama']</td>\n",
              "      <td>['US']</td>\n",
              "      <td>NaN</td>\n",
              "      <td>tt0075314</td>\n",
              "      <td>8.3</td>\n",
              "      <td>...</td>\n",
              "      <td>0</td>\n",
              "      <td>0</td>\n",
              "      <td>1</td>\n",
              "      <td>0</td>\n",
              "      <td>0</td>\n",
              "      <td>0</td>\n",
              "      <td>0</td>\n",
              "      <td>0</td>\n",
              "      <td>0</td>\n",
              "      <td>0</td>\n",
              "    </tr>\n",
              "    <tr>\n",
              "      <th>2</th>\n",
              "      <td>tm127384</td>\n",
              "      <td>Monty Python and the Holy Grail</td>\n",
              "      <td>King Arthur, accompanied by his squire, recrui...</td>\n",
              "      <td>1975</td>\n",
              "      <td>91</td>\n",
              "      <td>['comedy', 'fantasy']</td>\n",
              "      <td>['GB']</td>\n",
              "      <td>NaN</td>\n",
              "      <td>tt0071853</td>\n",
              "      <td>8.2</td>\n",
              "      <td>...</td>\n",
              "      <td>0</td>\n",
              "      <td>1</td>\n",
              "      <td>0</td>\n",
              "      <td>0</td>\n",
              "      <td>0</td>\n",
              "      <td>0</td>\n",
              "      <td>0</td>\n",
              "      <td>1</td>\n",
              "      <td>0</td>\n",
              "      <td>0</td>\n",
              "    </tr>\n",
              "    <tr>\n",
              "      <th>3</th>\n",
              "      <td>tm70993</td>\n",
              "      <td>Life of Brian</td>\n",
              "      <td>Brian Cohen is an average young Jewish man, bu...</td>\n",
              "      <td>1979</td>\n",
              "      <td>94</td>\n",
              "      <td>['comedy']</td>\n",
              "      <td>['GB']</td>\n",
              "      <td>NaN</td>\n",
              "      <td>tt0079470</td>\n",
              "      <td>8.0</td>\n",
              "      <td>...</td>\n",
              "      <td>0</td>\n",
              "      <td>0</td>\n",
              "      <td>1</td>\n",
              "      <td>0</td>\n",
              "      <td>0</td>\n",
              "      <td>0</td>\n",
              "      <td>0</td>\n",
              "      <td>0</td>\n",
              "      <td>0</td>\n",
              "      <td>0</td>\n",
              "    </tr>\n",
              "    <tr>\n",
              "      <th>4</th>\n",
              "      <td>tm190788</td>\n",
              "      <td>The Exorcist</td>\n",
              "      <td>12-year-old Regan MacNeil begins to adapt an e...</td>\n",
              "      <td>1973</td>\n",
              "      <td>133</td>\n",
              "      <td>['horror']</td>\n",
              "      <td>['US']</td>\n",
              "      <td>NaN</td>\n",
              "      <td>tt0070047</td>\n",
              "      <td>8.1</td>\n",
              "      <td>...</td>\n",
              "      <td>0</td>\n",
              "      <td>0</td>\n",
              "      <td>1</td>\n",
              "      <td>0</td>\n",
              "      <td>0</td>\n",
              "      <td>0</td>\n",
              "      <td>0</td>\n",
              "      <td>0</td>\n",
              "      <td>0</td>\n",
              "      <td>0</td>\n",
              "    </tr>\n",
              "  </tbody>\n",
              "</table>\n",
              "<p>5 rows × 46 columns</p>\n",
              "</div>"
            ],
            "text/plain": [
              "         id                                title  \\\n",
              "0  ts300399  Five Came Back: The Reference Films   \n",
              "1   tm84618                          Taxi Driver   \n",
              "2  tm127384      Monty Python and the Holy Grail   \n",
              "3   tm70993                        Life of Brian   \n",
              "4  tm190788                         The Exorcist   \n",
              "\n",
              "                                         description  release_year  runtime  \\\n",
              "0  This collection includes 12 World War II-era p...          1945       48   \n",
              "1  A mentally unstable Vietnam War veteran works ...          1976      113   \n",
              "2  King Arthur, accompanied by his squire, recrui...          1975       91   \n",
              "3  Brian Cohen is an average young Jewish man, bu...          1979       94   \n",
              "4  12-year-old Regan MacNeil begins to adapt an e...          1973      133   \n",
              "\n",
              "                  genres production_countries  seasons    imdb_id  imdb_score  \\\n",
              "0      ['documentation']               ['US']      1.0        NaN         NaN   \n",
              "1     ['crime', 'drama']               ['US']      NaN  tt0075314         8.3   \n",
              "2  ['comedy', 'fantasy']               ['GB']      NaN  tt0071853         8.2   \n",
              "3             ['comedy']               ['GB']      NaN  tt0079470         8.0   \n",
              "4             ['horror']               ['US']      NaN  tt0070047         8.1   \n",
              "\n",
              "   ...  TV-PG  PG  R  TV-14  PG-13  TV-Y7  NC-17  G  TV-G  TV-MA  \n",
              "0  ...      0   0  0      0      0      0      0  0     0      1  \n",
              "1  ...      0   0  1      0      0      0      0  0     0      0  \n",
              "2  ...      0   1  0      0      0      0      0  1     0      0  \n",
              "3  ...      0   0  1      0      0      0      0  0     0      0  \n",
              "4  ...      0   0  1      0      0      0      0  0     0      0  \n",
              "\n",
              "[5 rows x 46 columns]"
            ]
          },
          "metadata": {},
          "output_type": "display_data"
        }
      ],
      "source": [
        "# creating indicator columns for age certification\n",
        "unique(title['age_certification'])\n",
        "\n",
        "title['not_rated'] = title['age_certification'].isna().astype('int')\n",
        "title['TV-Y'] = title['age_certification'].str.contains('TV-Y', na = False).astype('int')\n",
        "title['TV-PG'] = title['age_certification'].str.contains('TV-PG', na = False).astype('int')\n",
        "title['PG'] = title['age_certification'].str.contains('PG', na = False).astype('int')\n",
        "title['R'] = title['age_certification'].str.contains('R', na = False).astype('int')\n",
        "title['TV-14'] = title['age_certification'].str.contains('TV-14', na = False).astype('int')\n",
        "title['PG-13'] = title['age_certification'].str.contains('PG-13', na = False).astype('int')\n",
        "title['TV-Y7'] = title['age_certification'].str.contains('TV-Y7', na = False).astype('int')\n",
        "title['NC-17'] = title['age_certification'].str.contains('NC-17', na = False).astype('int')\n",
        "title['G'] = title['age_certification'].str.contains('G', na = False).astype('int')\n",
        "title['TV-G'] = title['age_certification'].str.contains('TV-G', na = False).astype('int')\n",
        "title['TV-MA'] = title['age_certification'].str.contains('TV-MA', na = False).astype('int')\n",
        "title = title.drop(columns = ['age_certification'])\n",
        "title.head()"
      ]
    },
    {
      "cell_type": "markdown",
      "metadata": {
        "id": "fuTv8LBqxtWp"
      },
      "source": [
        "### Dropping unnecessary columns"
      ]
    },
    {
      "cell_type": "code",
      "execution_count": null,
      "metadata": {
        "id": "2c2CPYn-xslv"
      },
      "outputs": [
        {
          "data": {
            "text/html": [
              "<div>\n",
              "<style scoped>\n",
              "    .dataframe tbody tr th:only-of-type {\n",
              "        vertical-align: middle;\n",
              "    }\n",
              "\n",
              "    .dataframe tbody tr th {\n",
              "        vertical-align: top;\n",
              "    }\n",
              "\n",
              "    .dataframe thead th {\n",
              "        text-align: right;\n",
              "    }\n",
              "</style>\n",
              "<table border=\"1\" class=\"dataframe\">\n",
              "  <thead>\n",
              "    <tr style=\"text-align: right;\">\n",
              "      <th></th>\n",
              "      <th>id</th>\n",
              "      <th>release_year</th>\n",
              "      <th>runtime</th>\n",
              "      <th>seasons</th>\n",
              "      <th>imdb_score</th>\n",
              "      <th>imdb_votes</th>\n",
              "      <th>tmdb_popularity</th>\n",
              "      <th>tmdb_score</th>\n",
              "      <th>horror</th>\n",
              "      <th>history</th>\n",
              "      <th>...</th>\n",
              "      <th>TV-PG</th>\n",
              "      <th>PG</th>\n",
              "      <th>R</th>\n",
              "      <th>TV-14</th>\n",
              "      <th>PG-13</th>\n",
              "      <th>TV-Y7</th>\n",
              "      <th>NC-17</th>\n",
              "      <th>G</th>\n",
              "      <th>TV-G</th>\n",
              "      <th>TV-MA</th>\n",
              "    </tr>\n",
              "  </thead>\n",
              "  <tbody>\n",
              "    <tr>\n",
              "      <th>0</th>\n",
              "      <td>ts300399</td>\n",
              "      <td>1945</td>\n",
              "      <td>48</td>\n",
              "      <td>1.0</td>\n",
              "      <td>NaN</td>\n",
              "      <td>NaN</td>\n",
              "      <td>0.600</td>\n",
              "      <td>NaN</td>\n",
              "      <td>0</td>\n",
              "      <td>0</td>\n",
              "      <td>...</td>\n",
              "      <td>0</td>\n",
              "      <td>0</td>\n",
              "      <td>0</td>\n",
              "      <td>0</td>\n",
              "      <td>0</td>\n",
              "      <td>0</td>\n",
              "      <td>0</td>\n",
              "      <td>0</td>\n",
              "      <td>0</td>\n",
              "      <td>1</td>\n",
              "    </tr>\n",
              "    <tr>\n",
              "      <th>1</th>\n",
              "      <td>tm84618</td>\n",
              "      <td>1976</td>\n",
              "      <td>113</td>\n",
              "      <td>NaN</td>\n",
              "      <td>8.3</td>\n",
              "      <td>795222.0</td>\n",
              "      <td>27.612</td>\n",
              "      <td>8.2</td>\n",
              "      <td>0</td>\n",
              "      <td>0</td>\n",
              "      <td>...</td>\n",
              "      <td>0</td>\n",
              "      <td>0</td>\n",
              "      <td>1</td>\n",
              "      <td>0</td>\n",
              "      <td>0</td>\n",
              "      <td>0</td>\n",
              "      <td>0</td>\n",
              "      <td>0</td>\n",
              "      <td>0</td>\n",
              "      <td>0</td>\n",
              "    </tr>\n",
              "    <tr>\n",
              "      <th>2</th>\n",
              "      <td>tm127384</td>\n",
              "      <td>1975</td>\n",
              "      <td>91</td>\n",
              "      <td>NaN</td>\n",
              "      <td>8.2</td>\n",
              "      <td>530877.0</td>\n",
              "      <td>18.216</td>\n",
              "      <td>7.8</td>\n",
              "      <td>0</td>\n",
              "      <td>0</td>\n",
              "      <td>...</td>\n",
              "      <td>0</td>\n",
              "      <td>1</td>\n",
              "      <td>0</td>\n",
              "      <td>0</td>\n",
              "      <td>0</td>\n",
              "      <td>0</td>\n",
              "      <td>0</td>\n",
              "      <td>1</td>\n",
              "      <td>0</td>\n",
              "      <td>0</td>\n",
              "    </tr>\n",
              "    <tr>\n",
              "      <th>3</th>\n",
              "      <td>tm70993</td>\n",
              "      <td>1979</td>\n",
              "      <td>94</td>\n",
              "      <td>NaN</td>\n",
              "      <td>8.0</td>\n",
              "      <td>392419.0</td>\n",
              "      <td>17.505</td>\n",
              "      <td>7.8</td>\n",
              "      <td>0</td>\n",
              "      <td>0</td>\n",
              "      <td>...</td>\n",
              "      <td>0</td>\n",
              "      <td>0</td>\n",
              "      <td>1</td>\n",
              "      <td>0</td>\n",
              "      <td>0</td>\n",
              "      <td>0</td>\n",
              "      <td>0</td>\n",
              "      <td>0</td>\n",
              "      <td>0</td>\n",
              "      <td>0</td>\n",
              "    </tr>\n",
              "    <tr>\n",
              "      <th>4</th>\n",
              "      <td>tm190788</td>\n",
              "      <td>1973</td>\n",
              "      <td>133</td>\n",
              "      <td>NaN</td>\n",
              "      <td>8.1</td>\n",
              "      <td>391942.0</td>\n",
              "      <td>95.337</td>\n",
              "      <td>7.7</td>\n",
              "      <td>1</td>\n",
              "      <td>0</td>\n",
              "      <td>...</td>\n",
              "      <td>0</td>\n",
              "      <td>0</td>\n",
              "      <td>1</td>\n",
              "      <td>0</td>\n",
              "      <td>0</td>\n",
              "      <td>0</td>\n",
              "      <td>0</td>\n",
              "      <td>0</td>\n",
              "      <td>0</td>\n",
              "      <td>0</td>\n",
              "    </tr>\n",
              "    <tr>\n",
              "      <th>...</th>\n",
              "      <td>...</td>\n",
              "      <td>...</td>\n",
              "      <td>...</td>\n",
              "      <td>...</td>\n",
              "      <td>...</td>\n",
              "      <td>...</td>\n",
              "      <td>...</td>\n",
              "      <td>...</td>\n",
              "      <td>...</td>\n",
              "      <td>...</td>\n",
              "      <td>...</td>\n",
              "      <td>...</td>\n",
              "      <td>...</td>\n",
              "      <td>...</td>\n",
              "      <td>...</td>\n",
              "      <td>...</td>\n",
              "      <td>...</td>\n",
              "      <td>...</td>\n",
              "      <td>...</td>\n",
              "      <td>...</td>\n",
              "      <td>...</td>\n",
              "    </tr>\n",
              "    <tr>\n",
              "      <th>5801</th>\n",
              "      <td>tm1014599</td>\n",
              "      <td>2021</td>\n",
              "      <td>100</td>\n",
              "      <td>NaN</td>\n",
              "      <td>6.9</td>\n",
              "      <td>39.0</td>\n",
              "      <td>0.966</td>\n",
              "      <td>NaN</td>\n",
              "      <td>0</td>\n",
              "      <td>0</td>\n",
              "      <td>...</td>\n",
              "      <td>0</td>\n",
              "      <td>0</td>\n",
              "      <td>0</td>\n",
              "      <td>0</td>\n",
              "      <td>0</td>\n",
              "      <td>0</td>\n",
              "      <td>0</td>\n",
              "      <td>0</td>\n",
              "      <td>0</td>\n",
              "      <td>0</td>\n",
              "    </tr>\n",
              "    <tr>\n",
              "      <th>5802</th>\n",
              "      <td>tm1108171</td>\n",
              "      <td>2021</td>\n",
              "      <td>74</td>\n",
              "      <td>NaN</td>\n",
              "      <td>NaN</td>\n",
              "      <td>NaN</td>\n",
              "      <td>1.036</td>\n",
              "      <td>8.5</td>\n",
              "      <td>0</td>\n",
              "      <td>0</td>\n",
              "      <td>...</td>\n",
              "      <td>0</td>\n",
              "      <td>0</td>\n",
              "      <td>0</td>\n",
              "      <td>0</td>\n",
              "      <td>0</td>\n",
              "      <td>0</td>\n",
              "      <td>0</td>\n",
              "      <td>0</td>\n",
              "      <td>0</td>\n",
              "      <td>0</td>\n",
              "    </tr>\n",
              "    <tr>\n",
              "      <th>5803</th>\n",
              "      <td>tm1045018</td>\n",
              "      <td>2021</td>\n",
              "      <td>88</td>\n",
              "      <td>NaN</td>\n",
              "      <td>6.5</td>\n",
              "      <td>32.0</td>\n",
              "      <td>0.709</td>\n",
              "      <td>NaN</td>\n",
              "      <td>0</td>\n",
              "      <td>0</td>\n",
              "      <td>...</td>\n",
              "      <td>0</td>\n",
              "      <td>0</td>\n",
              "      <td>0</td>\n",
              "      <td>0</td>\n",
              "      <td>0</td>\n",
              "      <td>0</td>\n",
              "      <td>0</td>\n",
              "      <td>0</td>\n",
              "      <td>0</td>\n",
              "      <td>0</td>\n",
              "    </tr>\n",
              "    <tr>\n",
              "      <th>5804</th>\n",
              "      <td>tm1098060</td>\n",
              "      <td>2021</td>\n",
              "      <td>116</td>\n",
              "      <td>NaN</td>\n",
              "      <td>6.2</td>\n",
              "      <td>9.0</td>\n",
              "      <td>2.186</td>\n",
              "      <td>NaN</td>\n",
              "      <td>0</td>\n",
              "      <td>0</td>\n",
              "      <td>...</td>\n",
              "      <td>0</td>\n",
              "      <td>0</td>\n",
              "      <td>0</td>\n",
              "      <td>0</td>\n",
              "      <td>0</td>\n",
              "      <td>0</td>\n",
              "      <td>0</td>\n",
              "      <td>0</td>\n",
              "      <td>0</td>\n",
              "      <td>0</td>\n",
              "    </tr>\n",
              "    <tr>\n",
              "      <th>5805</th>\n",
              "      <td>ts271048</td>\n",
              "      <td>2021</td>\n",
              "      <td>0</td>\n",
              "      <td>1.0</td>\n",
              "      <td>8.8</td>\n",
              "      <td>16.0</td>\n",
              "      <td>0.979</td>\n",
              "      <td>10.0</td>\n",
              "      <td>0</td>\n",
              "      <td>0</td>\n",
              "      <td>...</td>\n",
              "      <td>0</td>\n",
              "      <td>0</td>\n",
              "      <td>0</td>\n",
              "      <td>0</td>\n",
              "      <td>0</td>\n",
              "      <td>0</td>\n",
              "      <td>0</td>\n",
              "      <td>0</td>\n",
              "      <td>0</td>\n",
              "      <td>0</td>\n",
              "    </tr>\n",
              "  </tbody>\n",
              "</table>\n",
              "<p>5806 rows × 41 columns</p>\n",
              "</div>"
            ],
            "text/plain": [
              "             id  release_year  runtime  seasons  imdb_score  imdb_votes  \\\n",
              "0      ts300399          1945       48      1.0         NaN         NaN   \n",
              "1       tm84618          1976      113      NaN         8.3    795222.0   \n",
              "2      tm127384          1975       91      NaN         8.2    530877.0   \n",
              "3       tm70993          1979       94      NaN         8.0    392419.0   \n",
              "4      tm190788          1973      133      NaN         8.1    391942.0   \n",
              "...         ...           ...      ...      ...         ...         ...   \n",
              "5801  tm1014599          2021      100      NaN         6.9        39.0   \n",
              "5802  tm1108171          2021       74      NaN         NaN         NaN   \n",
              "5803  tm1045018          2021       88      NaN         6.5        32.0   \n",
              "5804  tm1098060          2021      116      NaN         6.2         9.0   \n",
              "5805   ts271048          2021        0      1.0         8.8        16.0   \n",
              "\n",
              "      tmdb_popularity  tmdb_score  horror  history  ...  TV-PG  PG  R  TV-14  \\\n",
              "0               0.600         NaN       0        0  ...      0   0  0      0   \n",
              "1              27.612         8.2       0        0  ...      0   0  1      0   \n",
              "2              18.216         7.8       0        0  ...      0   1  0      0   \n",
              "3              17.505         7.8       0        0  ...      0   0  1      0   \n",
              "4              95.337         7.7       1        0  ...      0   0  1      0   \n",
              "...               ...         ...     ...      ...  ...    ...  .. ..    ...   \n",
              "5801            0.966         NaN       0        0  ...      0   0  0      0   \n",
              "5802            1.036         8.5       0        0  ...      0   0  0      0   \n",
              "5803            0.709         NaN       0        0  ...      0   0  0      0   \n",
              "5804            2.186         NaN       0        0  ...      0   0  0      0   \n",
              "5805            0.979        10.0       0        0  ...      0   0  0      0   \n",
              "\n",
              "      PG-13  TV-Y7  NC-17  G  TV-G  TV-MA  \n",
              "0         0      0      0  0     0      1  \n",
              "1         0      0      0  0     0      0  \n",
              "2         0      0      0  1     0      0  \n",
              "3         0      0      0  0     0      0  \n",
              "4         0      0      0  0     0      0  \n",
              "...     ...    ...    ... ..   ...    ...  \n",
              "5801      0      0      0  0     0      0  \n",
              "5802      0      0      0  0     0      0  \n",
              "5803      0      0      0  0     0      0  \n",
              "5804      0      0      0  0     0      0  \n",
              "5805      0      0      0  0     0      0  \n",
              "\n",
              "[5806 rows x 41 columns]"
            ]
          },
          "metadata": {},
          "output_type": "display_data"
        }
      ],
      "source": [
        "# unneeded columns are dropped\n",
        "titles_mod1 = title.drop(columns = ['title', 'description', 'genres', 'imdb_id', 'production_countries'])\n",
        "titles_mod1"
      ]
    },
    {
      "cell_type": "markdown",
      "metadata": {
        "id": "4FBXJSsMWR_E"
      },
      "source": [
        "### Filling the Nan values"
      ]
    },
    {
      "cell_type": "code",
      "execution_count": null,
      "metadata": {
        "id": "DX8gzs1_Zb8l"
      },
      "outputs": [
        {
          "data": {
            "text/html": [
              "<div>\n",
              "<style scoped>\n",
              "    .dataframe tbody tr th:only-of-type {\n",
              "        vertical-align: middle;\n",
              "    }\n",
              "\n",
              "    .dataframe tbody tr th {\n",
              "        vertical-align: top;\n",
              "    }\n",
              "\n",
              "    .dataframe thead th {\n",
              "        text-align: right;\n",
              "    }\n",
              "</style>\n",
              "<table border=\"1\" class=\"dataframe\">\n",
              "  <thead>\n",
              "    <tr style=\"text-align: right;\">\n",
              "      <th></th>\n",
              "      <th>release_year</th>\n",
              "      <th>runtime</th>\n",
              "      <th>seasons</th>\n",
              "      <th>imdb_score</th>\n",
              "      <th>imdb_votes</th>\n",
              "      <th>tmdb_popularity</th>\n",
              "      <th>tmdb_score</th>\n",
              "      <th>horror</th>\n",
              "      <th>history</th>\n",
              "      <th>european</th>\n",
              "      <th>...</th>\n",
              "      <th>TV-PG</th>\n",
              "      <th>PG</th>\n",
              "      <th>R</th>\n",
              "      <th>TV-14</th>\n",
              "      <th>PG-13</th>\n",
              "      <th>TV-Y7</th>\n",
              "      <th>NC-17</th>\n",
              "      <th>G</th>\n",
              "      <th>TV-G</th>\n",
              "      <th>TV-MA</th>\n",
              "    </tr>\n",
              "  </thead>\n",
              "  <tbody>\n",
              "    <tr>\n",
              "      <th>0</th>\n",
              "      <td>1945</td>\n",
              "      <td>48</td>\n",
              "      <td>1.0</td>\n",
              "      <td>0.0</td>\n",
              "      <td>0.0</td>\n",
              "      <td>0.600</td>\n",
              "      <td>0.0</td>\n",
              "      <td>0</td>\n",
              "      <td>0</td>\n",
              "      <td>0</td>\n",
              "      <td>...</td>\n",
              "      <td>0</td>\n",
              "      <td>0</td>\n",
              "      <td>0</td>\n",
              "      <td>0</td>\n",
              "      <td>0</td>\n",
              "      <td>0</td>\n",
              "      <td>0</td>\n",
              "      <td>0</td>\n",
              "      <td>0</td>\n",
              "      <td>1</td>\n",
              "    </tr>\n",
              "    <tr>\n",
              "      <th>1</th>\n",
              "      <td>1976</td>\n",
              "      <td>113</td>\n",
              "      <td>0.0</td>\n",
              "      <td>8.3</td>\n",
              "      <td>795222.0</td>\n",
              "      <td>27.612</td>\n",
              "      <td>8.2</td>\n",
              "      <td>0</td>\n",
              "      <td>0</td>\n",
              "      <td>0</td>\n",
              "      <td>...</td>\n",
              "      <td>0</td>\n",
              "      <td>0</td>\n",
              "      <td>1</td>\n",
              "      <td>0</td>\n",
              "      <td>0</td>\n",
              "      <td>0</td>\n",
              "      <td>0</td>\n",
              "      <td>0</td>\n",
              "      <td>0</td>\n",
              "      <td>0</td>\n",
              "    </tr>\n",
              "    <tr>\n",
              "      <th>2</th>\n",
              "      <td>1975</td>\n",
              "      <td>91</td>\n",
              "      <td>0.0</td>\n",
              "      <td>8.2</td>\n",
              "      <td>530877.0</td>\n",
              "      <td>18.216</td>\n",
              "      <td>7.8</td>\n",
              "      <td>0</td>\n",
              "      <td>0</td>\n",
              "      <td>0</td>\n",
              "      <td>...</td>\n",
              "      <td>0</td>\n",
              "      <td>1</td>\n",
              "      <td>0</td>\n",
              "      <td>0</td>\n",
              "      <td>0</td>\n",
              "      <td>0</td>\n",
              "      <td>0</td>\n",
              "      <td>1</td>\n",
              "      <td>0</td>\n",
              "      <td>0</td>\n",
              "    </tr>\n",
              "    <tr>\n",
              "      <th>3</th>\n",
              "      <td>1979</td>\n",
              "      <td>94</td>\n",
              "      <td>0.0</td>\n",
              "      <td>8.0</td>\n",
              "      <td>392419.0</td>\n",
              "      <td>17.505</td>\n",
              "      <td>7.8</td>\n",
              "      <td>0</td>\n",
              "      <td>0</td>\n",
              "      <td>0</td>\n",
              "      <td>...</td>\n",
              "      <td>0</td>\n",
              "      <td>0</td>\n",
              "      <td>1</td>\n",
              "      <td>0</td>\n",
              "      <td>0</td>\n",
              "      <td>0</td>\n",
              "      <td>0</td>\n",
              "      <td>0</td>\n",
              "      <td>0</td>\n",
              "      <td>0</td>\n",
              "    </tr>\n",
              "    <tr>\n",
              "      <th>4</th>\n",
              "      <td>1973</td>\n",
              "      <td>133</td>\n",
              "      <td>0.0</td>\n",
              "      <td>8.1</td>\n",
              "      <td>391942.0</td>\n",
              "      <td>95.337</td>\n",
              "      <td>7.7</td>\n",
              "      <td>1</td>\n",
              "      <td>0</td>\n",
              "      <td>0</td>\n",
              "      <td>...</td>\n",
              "      <td>0</td>\n",
              "      <td>0</td>\n",
              "      <td>1</td>\n",
              "      <td>0</td>\n",
              "      <td>0</td>\n",
              "      <td>0</td>\n",
              "      <td>0</td>\n",
              "      <td>0</td>\n",
              "      <td>0</td>\n",
              "      <td>0</td>\n",
              "    </tr>\n",
              "  </tbody>\n",
              "</table>\n",
              "<p>5 rows × 40 columns</p>\n",
              "</div>"
            ],
            "text/plain": [
              "   release_year  runtime  seasons  imdb_score  imdb_votes  tmdb_popularity  \\\n",
              "0          1945       48      1.0         0.0         0.0            0.600   \n",
              "1          1976      113      0.0         8.3    795222.0           27.612   \n",
              "2          1975       91      0.0         8.2    530877.0           18.216   \n",
              "3          1979       94      0.0         8.0    392419.0           17.505   \n",
              "4          1973      133      0.0         8.1    391942.0           95.337   \n",
              "\n",
              "   tmdb_score  horror  history  european  ...  TV-PG  PG  R  TV-14  PG-13  \\\n",
              "0         0.0       0        0         0  ...      0   0  0      0      0   \n",
              "1         8.2       0        0         0  ...      0   0  1      0      0   \n",
              "2         7.8       0        0         0  ...      0   1  0      0      0   \n",
              "3         7.8       0        0         0  ...      0   0  1      0      0   \n",
              "4         7.7       1        0         0  ...      0   0  1      0      0   \n",
              "\n",
              "   TV-Y7  NC-17  G  TV-G  TV-MA  \n",
              "0      0      0  0     0      1  \n",
              "1      0      0  0     0      0  \n",
              "2      0      0  1     0      0  \n",
              "3      0      0  0     0      0  \n",
              "4      0      0  0     0      0  \n",
              "\n",
              "[5 rows x 40 columns]"
            ]
          },
          "metadata": {},
          "output_type": "display_data"
        }
      ],
      "source": [
        "# Changing NA's to zeros\n",
        "titles_mod1 = titles_mod1.fillna(0).drop(columns='id')\n",
        "titles_mod1.head()"
      ]
    },
    {
      "cell_type": "markdown",
      "metadata": {
        "id": "gzcb2QznZ0X0"
      },
      "source": [
        "## Model for recommender system"
      ]
    },
    {
      "cell_type": "markdown",
      "metadata": {
        "id": "iyKVfbXmVcMQ"
      },
      "source": [
        "### Normalisation for Recommendation system"
      ]
    },
    {
      "cell_type": "markdown",
      "metadata": {
        "id": "dNMb4rzVWtTT"
      },
      "source": [
        "Here, all the columns are normalized from 0 to 1. This normalization is done to ensure that none of the columns have a greater weight when passed into the K Nearest Neighbor model that will be used for making recommendations."
      ]
    },
    {
      "cell_type": "code",
      "execution_count": null,
      "metadata": {
        "id": "g22RY4UhVhBT"
      },
      "outputs": [
        {
          "data": {
            "text/html": [
              "<div>\n",
              "<style scoped>\n",
              "    .dataframe tbody tr th:only-of-type {\n",
              "        vertical-align: middle;\n",
              "    }\n",
              "\n",
              "    .dataframe tbody tr th {\n",
              "        vertical-align: top;\n",
              "    }\n",
              "\n",
              "    .dataframe thead th {\n",
              "        text-align: right;\n",
              "    }\n",
              "</style>\n",
              "<table border=\"1\" class=\"dataframe\">\n",
              "  <thead>\n",
              "    <tr style=\"text-align: right;\">\n",
              "      <th></th>\n",
              "      <th>release_year</th>\n",
              "      <th>runtime</th>\n",
              "      <th>seasons</th>\n",
              "      <th>imdb_score</th>\n",
              "      <th>imdb_votes</th>\n",
              "      <th>tmdb_popularity</th>\n",
              "      <th>tmdb_score</th>\n",
              "      <th>horror</th>\n",
              "      <th>history</th>\n",
              "      <th>european</th>\n",
              "      <th>...</th>\n",
              "      <th>TV-PG</th>\n",
              "      <th>PG</th>\n",
              "      <th>R</th>\n",
              "      <th>TV-14</th>\n",
              "      <th>PG-13</th>\n",
              "      <th>TV-Y7</th>\n",
              "      <th>NC-17</th>\n",
              "      <th>G</th>\n",
              "      <th>TV-G</th>\n",
              "      <th>TV-MA</th>\n",
              "    </tr>\n",
              "  </thead>\n",
              "  <tbody>\n",
              "    <tr>\n",
              "      <th>0</th>\n",
              "      <td>0.000000</td>\n",
              "      <td>0.191235</td>\n",
              "      <td>0.02381</td>\n",
              "      <td>0.000000</td>\n",
              "      <td>0.000000</td>\n",
              "      <td>0.000329</td>\n",
              "      <td>0.00</td>\n",
              "      <td>0.0</td>\n",
              "      <td>0.0</td>\n",
              "      <td>0.0</td>\n",
              "      <td>...</td>\n",
              "      <td>0.0</td>\n",
              "      <td>0.0</td>\n",
              "      <td>0.0</td>\n",
              "      <td>0.0</td>\n",
              "      <td>0.0</td>\n",
              "      <td>0.0</td>\n",
              "      <td>0.0</td>\n",
              "      <td>0.0</td>\n",
              "      <td>0.0</td>\n",
              "      <td>1.0</td>\n",
              "    </tr>\n",
              "    <tr>\n",
              "      <th>1</th>\n",
              "      <td>0.402597</td>\n",
              "      <td>0.450199</td>\n",
              "      <td>0.00000</td>\n",
              "      <td>0.864583</td>\n",
              "      <td>0.350582</td>\n",
              "      <td>0.015143</td>\n",
              "      <td>0.82</td>\n",
              "      <td>0.0</td>\n",
              "      <td>0.0</td>\n",
              "      <td>0.0</td>\n",
              "      <td>...</td>\n",
              "      <td>0.0</td>\n",
              "      <td>0.0</td>\n",
              "      <td>1.0</td>\n",
              "      <td>0.0</td>\n",
              "      <td>0.0</td>\n",
              "      <td>0.0</td>\n",
              "      <td>0.0</td>\n",
              "      <td>0.0</td>\n",
              "      <td>0.0</td>\n",
              "      <td>0.0</td>\n",
              "    </tr>\n",
              "    <tr>\n",
              "      <th>2</th>\n",
              "      <td>0.389610</td>\n",
              "      <td>0.362550</td>\n",
              "      <td>0.00000</td>\n",
              "      <td>0.854167</td>\n",
              "      <td>0.234043</td>\n",
              "      <td>0.009990</td>\n",
              "      <td>0.78</td>\n",
              "      <td>0.0</td>\n",
              "      <td>0.0</td>\n",
              "      <td>0.0</td>\n",
              "      <td>...</td>\n",
              "      <td>0.0</td>\n",
              "      <td>1.0</td>\n",
              "      <td>0.0</td>\n",
              "      <td>0.0</td>\n",
              "      <td>0.0</td>\n",
              "      <td>0.0</td>\n",
              "      <td>0.0</td>\n",
              "      <td>1.0</td>\n",
              "      <td>0.0</td>\n",
              "      <td>0.0</td>\n",
              "    </tr>\n",
              "    <tr>\n",
              "      <th>3</th>\n",
              "      <td>0.441558</td>\n",
              "      <td>0.374502</td>\n",
              "      <td>0.00000</td>\n",
              "      <td>0.833333</td>\n",
              "      <td>0.173002</td>\n",
              "      <td>0.009600</td>\n",
              "      <td>0.78</td>\n",
              "      <td>0.0</td>\n",
              "      <td>0.0</td>\n",
              "      <td>0.0</td>\n",
              "      <td>...</td>\n",
              "      <td>0.0</td>\n",
              "      <td>0.0</td>\n",
              "      <td>1.0</td>\n",
              "      <td>0.0</td>\n",
              "      <td>0.0</td>\n",
              "      <td>0.0</td>\n",
              "      <td>0.0</td>\n",
              "      <td>0.0</td>\n",
              "      <td>0.0</td>\n",
              "      <td>0.0</td>\n",
              "    </tr>\n",
              "    <tr>\n",
              "      <th>4</th>\n",
              "      <td>0.363636</td>\n",
              "      <td>0.529880</td>\n",
              "      <td>0.00000</td>\n",
              "      <td>0.843750</td>\n",
              "      <td>0.172792</td>\n",
              "      <td>0.052286</td>\n",
              "      <td>0.77</td>\n",
              "      <td>1.0</td>\n",
              "      <td>0.0</td>\n",
              "      <td>0.0</td>\n",
              "      <td>...</td>\n",
              "      <td>0.0</td>\n",
              "      <td>0.0</td>\n",
              "      <td>1.0</td>\n",
              "      <td>0.0</td>\n",
              "      <td>0.0</td>\n",
              "      <td>0.0</td>\n",
              "      <td>0.0</td>\n",
              "      <td>0.0</td>\n",
              "      <td>0.0</td>\n",
              "      <td>0.0</td>\n",
              "    </tr>\n",
              "  </tbody>\n",
              "</table>\n",
              "<p>5 rows × 40 columns</p>\n",
              "</div>"
            ],
            "text/plain": [
              "   release_year   runtime  seasons  imdb_score  imdb_votes  tmdb_popularity  \\\n",
              "0      0.000000  0.191235  0.02381    0.000000    0.000000         0.000329   \n",
              "1      0.402597  0.450199  0.00000    0.864583    0.350582         0.015143   \n",
              "2      0.389610  0.362550  0.00000    0.854167    0.234043         0.009990   \n",
              "3      0.441558  0.374502  0.00000    0.833333    0.173002         0.009600   \n",
              "4      0.363636  0.529880  0.00000    0.843750    0.172792         0.052286   \n",
              "\n",
              "   tmdb_score  horror  history  european  ...  TV-PG   PG    R  TV-14  PG-13  \\\n",
              "0        0.00     0.0      0.0       0.0  ...    0.0  0.0  0.0    0.0    0.0   \n",
              "1        0.82     0.0      0.0       0.0  ...    0.0  0.0  1.0    0.0    0.0   \n",
              "2        0.78     0.0      0.0       0.0  ...    0.0  1.0  0.0    0.0    0.0   \n",
              "3        0.78     0.0      0.0       0.0  ...    0.0  0.0  1.0    0.0    0.0   \n",
              "4        0.77     1.0      0.0       0.0  ...    0.0  0.0  1.0    0.0    0.0   \n",
              "\n",
              "   TV-Y7  NC-17    G  TV-G  TV-MA  \n",
              "0    0.0    0.0  0.0   0.0    1.0  \n",
              "1    0.0    0.0  0.0   0.0    0.0  \n",
              "2    0.0    0.0  1.0   0.0    0.0  \n",
              "3    0.0    0.0  0.0   0.0    0.0  \n",
              "4    0.0    0.0  0.0   0.0    0.0  \n",
              "\n",
              "[5 rows x 40 columns]"
            ]
          },
          "metadata": {},
          "output_type": "display_data"
        }
      ],
      "source": [
        "# Normalizing data\n",
        "normalized_data = (titles_mod1 - titles_mod1.min())/(titles_mod1.max() - titles_mod1.min())\n",
        "normalized_data.head()"
      ]
    },
    {
      "cell_type": "markdown",
      "metadata": {
        "id": "VgsD1tAhZud5"
      },
      "source": [
        "### Making the model"
      ]
    },
    {
      "cell_type": "markdown",
      "metadata": {
        "id": "PLQdJX4rZ8JW"
      },
      "source": [
        "We fit the K Nearest Neighbors model below and use cosine similarity as the metric to determine how close titles are from each other."
      ]
    },
    {
      "cell_type": "code",
      "execution_count": null,
      "metadata": {
        "id": "NwSnIPuiZr2j"
      },
      "outputs": [
        {
          "data": {
            "text/html": [
              "<style>#sk-container-id-3 {color: black;background-color: white;}#sk-container-id-3 pre{padding: 0;}#sk-container-id-3 div.sk-toggleable {background-color: white;}#sk-container-id-3 label.sk-toggleable__label {cursor: pointer;display: block;width: 100%;margin-bottom: 0;padding: 0.3em;box-sizing: border-box;text-align: center;}#sk-container-id-3 label.sk-toggleable__label-arrow:before {content: \"▸\";float: left;margin-right: 0.25em;color: #696969;}#sk-container-id-3 label.sk-toggleable__label-arrow:hover:before {color: black;}#sk-container-id-3 div.sk-estimator:hover label.sk-toggleable__label-arrow:before {color: black;}#sk-container-id-3 div.sk-toggleable__content {max-height: 0;max-width: 0;overflow: hidden;text-align: left;background-color: #f0f8ff;}#sk-container-id-3 div.sk-toggleable__content pre {margin: 0.2em;color: black;border-radius: 0.25em;background-color: #f0f8ff;}#sk-container-id-3 input.sk-toggleable__control:checked~div.sk-toggleable__content {max-height: 200px;max-width: 100%;overflow: auto;}#sk-container-id-3 input.sk-toggleable__control:checked~label.sk-toggleable__label-arrow:before {content: \"▾\";}#sk-container-id-3 div.sk-estimator input.sk-toggleable__control:checked~label.sk-toggleable__label {background-color: #d4ebff;}#sk-container-id-3 div.sk-label input.sk-toggleable__control:checked~label.sk-toggleable__label {background-color: #d4ebff;}#sk-container-id-3 input.sk-hidden--visually {border: 0;clip: rect(1px 1px 1px 1px);clip: rect(1px, 1px, 1px, 1px);height: 1px;margin: -1px;overflow: hidden;padding: 0;position: absolute;width: 1px;}#sk-container-id-3 div.sk-estimator {font-family: monospace;background-color: #f0f8ff;border: 1px dotted black;border-radius: 0.25em;box-sizing: border-box;margin-bottom: 0.5em;}#sk-container-id-3 div.sk-estimator:hover {background-color: #d4ebff;}#sk-container-id-3 div.sk-parallel-item::after {content: \"\";width: 100%;border-bottom: 1px solid gray;flex-grow: 1;}#sk-container-id-3 div.sk-label:hover label.sk-toggleable__label {background-color: #d4ebff;}#sk-container-id-3 div.sk-serial::before {content: \"\";position: absolute;border-left: 1px solid gray;box-sizing: border-box;top: 0;bottom: 0;left: 50%;z-index: 0;}#sk-container-id-3 div.sk-serial {display: flex;flex-direction: column;align-items: center;background-color: white;padding-right: 0.2em;padding-left: 0.2em;position: relative;}#sk-container-id-3 div.sk-item {position: relative;z-index: 1;}#sk-container-id-3 div.sk-parallel {display: flex;align-items: stretch;justify-content: center;background-color: white;position: relative;}#sk-container-id-3 div.sk-item::before, #sk-container-id-3 div.sk-parallel-item::before {content: \"\";position: absolute;border-left: 1px solid gray;box-sizing: border-box;top: 0;bottom: 0;left: 50%;z-index: -1;}#sk-container-id-3 div.sk-parallel-item {display: flex;flex-direction: column;z-index: 1;position: relative;background-color: white;}#sk-container-id-3 div.sk-parallel-item:first-child::after {align-self: flex-end;width: 50%;}#sk-container-id-3 div.sk-parallel-item:last-child::after {align-self: flex-start;width: 50%;}#sk-container-id-3 div.sk-parallel-item:only-child::after {width: 0;}#sk-container-id-3 div.sk-dashed-wrapped {border: 1px dashed gray;margin: 0 0.4em 0.5em 0.4em;box-sizing: border-box;padding-bottom: 0.4em;background-color: white;}#sk-container-id-3 div.sk-label label {font-family: monospace;font-weight: bold;display: inline-block;line-height: 1.2em;}#sk-container-id-3 div.sk-label-container {text-align: center;}#sk-container-id-3 div.sk-container {/* jupyter's `normalize.less` sets `[hidden] { display: none; }` but bootstrap.min.css set `[hidden] { display: none !important; }` so we also need the `!important` here to be able to override the default hidden behavior on the sphinx rendered scikit-learn.org. See: https://github.com/scikit-learn/scikit-learn/issues/21755 */display: inline-block !important;position: relative;}#sk-container-id-3 div.sk-text-repr-fallback {display: none;}</style><div id=\"sk-container-id-3\" class=\"sk-top-container\"><div class=\"sk-text-repr-fallback\"><pre>NearestNeighbors(algorithm=&#x27;brute&#x27;, metric=&#x27;cosine&#x27;)</pre><b>In a Jupyter environment, please rerun this cell to show the HTML representation or trust the notebook. <br />On GitHub, the HTML representation is unable to render, please try loading this page with nbviewer.org.</b></div><div class=\"sk-container\" hidden><div class=\"sk-item\"><div class=\"sk-estimator sk-toggleable\"><input class=\"sk-toggleable__control sk-hidden--visually\" id=\"sk-estimator-id-3\" type=\"checkbox\" checked><label for=\"sk-estimator-id-3\" class=\"sk-toggleable__label sk-toggleable__label-arrow\">NearestNeighbors</label><div class=\"sk-toggleable__content\"><pre>NearestNeighbors(algorithm=&#x27;brute&#x27;, metric=&#x27;cosine&#x27;)</pre></div></div></div></div></div>"
            ],
            "text/plain": [
              "NearestNeighbors(algorithm='brute', metric='cosine')"
            ]
          },
          "metadata": {},
          "output_type": "display_data"
        }
      ],
      "source": [
        "from sklearn.neighbors import NearestNeighbors\n",
        "\n",
        "knn = NearestNeighbors(metric = 'cosine', algorithm = 'brute')\n",
        "knn.fit(normalized_data)"
      ]
    },
    {
      "cell_type": "markdown",
      "metadata": {
        "id": "Ax-oeUspaEt1"
      },
      "source": [
        "In the block below we create a function that allows users to type in a movie title and if it is an exact match to one in the dataset then **ten recommendations** with the closest cosine similarity to the model are outputted. \n",
        "\n",
        "If the title is not found, a function is used to give close matches to what the user inputted and allows for the user to input in a title again."
      ]
    },
    {
      "cell_type": "code",
      "execution_count": null,
      "metadata": {
        "id": "_7fp5gTvaAUy"
      },
      "outputs": [
        {
          "data": {
            "text/html": [
              "<div>\n",
              "<style scoped>\n",
              "    .dataframe tbody tr th:only-of-type {\n",
              "        vertical-align: middle;\n",
              "    }\n",
              "\n",
              "    .dataframe tbody tr th {\n",
              "        vertical-align: top;\n",
              "    }\n",
              "\n",
              "    .dataframe thead th {\n",
              "        text-align: right;\n",
              "    }\n",
              "</style>\n",
              "<table border=\"1\" class=\"dataframe\">\n",
              "  <thead>\n",
              "    <tr style=\"text-align: right;\">\n",
              "      <th></th>\n",
              "      <th>title</th>\n",
              "    </tr>\n",
              "  </thead>\n",
              "  <tbody>\n",
              "    <tr>\n",
              "      <th>0</th>\n",
              "      <td>five came back: the reference films</td>\n",
              "    </tr>\n",
              "    <tr>\n",
              "      <th>1</th>\n",
              "      <td>taxi driver</td>\n",
              "    </tr>\n",
              "    <tr>\n",
              "      <th>2</th>\n",
              "      <td>monty python and the holy grail</td>\n",
              "    </tr>\n",
              "    <tr>\n",
              "      <th>3</th>\n",
              "      <td>life of brian</td>\n",
              "    </tr>\n",
              "    <tr>\n",
              "      <th>4</th>\n",
              "      <td>the exorcist</td>\n",
              "    </tr>\n",
              "  </tbody>\n",
              "</table>\n",
              "</div>"
            ],
            "text/plain": [
              "                                 title\n",
              "0  five came back: the reference films\n",
              "1                          taxi driver\n",
              "2      monty python and the holy grail\n",
              "3                        life of brian\n",
              "4                         the exorcist"
            ]
          },
          "metadata": {},
          "output_type": "display_data"
        }
      ],
      "source": [
        "# creating df of title names\n",
        "title_names = title.loc[ : , ['title']]\n",
        "title_names['title'] = title_names['title'].str.lower()\n",
        "title_names.head()"
      ]
    },
    {
      "cell_type": "code",
      "execution_count": null,
      "metadata": {
        "id": "xRlyEGGIagDN"
      },
      "outputs": [],
      "source": [
        "#get the ten nearest neighbors\n",
        "def recomendations(n):\n",
        "    neighbor_index = knn.kneighbors([normalized_data.loc[n]], return_distance=False, n_neighbors=11)\n",
        "    neighbor_index = list(neighbor_index[0])\n",
        "    neighbor_index = neighbor_index[1:11]\n",
        "    print(\"Recomendations for: \" + title_names.loc[n, 'title'])\n",
        "    print(title_names.loc[neighbor_index])"
      ]
    },
    {
      "cell_type": "code",
      "execution_count": null,
      "metadata": {
        "id": "ivwjI7ZAazi8"
      },
      "outputs": [],
      "source": [
        "netflix_titles = list(title_names.loc[:, 'title'])\n",
        "\n",
        "def movie(title):\n",
        "    title = title.lower()\n",
        "    result = process.extract(title, netflix_titles, limit = 5)\n",
        "    i = 1\n",
        "    for mov in result:\n",
        "        if (i == 1 and mov[1] <= 80):\n",
        "            print('No close matches found. Try again.')\n",
        "            break\n",
        "        if mov[1] == 100:\n",
        "            index = netflix_titles.index(title)\n",
        "            recomendations(index)\n",
        "            return\n",
        "        if (mov[1] >= 80 and mov[1] != 100):\n",
        "            if i == 1:\n",
        "                print('Exact match not found for {}. Did you mean:'.format(title))\n",
        "            print(str(i) + ') ' + mov[0])\n",
        "            i = i+1"
      ]
    },
    {
      "cell_type": "markdown",
      "metadata": {},
      "source": [
        "## System implementation"
      ]
    },
    {
      "cell_type": "markdown",
      "metadata": {},
      "source": [
        "In the following blocks some examples are shown using the function to show recommendations."
      ]
    },
    {
      "cell_type": "code",
      "execution_count": null,
      "metadata": {},
      "outputs": [
        {
          "name": "stdout",
          "output_type": "stream",
          "text": [
            "Recomendations for: breaking bad\n",
            "                 title\n",
            "1260            narcos\n",
            "1824             ozark\n",
            "1835        mindhunter\n",
            "1826        the sinner\n",
            "1840             elite\n",
            "951          wentworth\n",
            "2198     the mechanism\n",
            "3362        undercover\n",
            "4935  the chestnut man\n",
            "1888       alias grace\n"
          ]
        },
        {
          "name": "stderr",
          "output_type": "stream",
          "text": [
            "c:\\Users\\Vaishnavi Jayakumar\\AppData\\Local\\Programs\\Python\\Python310\\lib\\site-packages\\sklearn\\base.py:450: UserWarning: X does not have valid feature names, but NearestNeighbors was fitted with feature names\n",
            "  warnings.warn(\n"
          ]
        }
      ],
      "source": [
        "movie('breaking bad')"
      ]
    },
    {
      "cell_type": "code",
      "execution_count": null,
      "metadata": {},
      "outputs": [
        {
          "name": "stdout",
          "output_type": "stream",
          "text": [
            "Recomendations for: monty python's flying circus\n",
            "                          title\n",
            "367                  still game\n",
            "257                the it crowd\n",
            "1292                    flowers\n",
            "452                  one on one\n",
            "760                      cuckoo\n",
            "480                 half & half\n",
            "1220             schitt's creek\n",
            "1233           documentary now!\n",
            "1247          kim's convenience\n",
            "1934  james acaster: repertoire\n"
          ]
        },
        {
          "name": "stderr",
          "output_type": "stream",
          "text": [
            "c:\\Users\\Vaishnavi Jayakumar\\AppData\\Local\\Programs\\Python\\Python310\\lib\\site-packages\\sklearn\\base.py:450: UserWarning: X does not have valid feature names, but NearestNeighbors was fitted with feature names\n",
            "  warnings.warn(\n"
          ]
        }
      ],
      "source": [
        "movie('Monty Python\\'s Flying Circus')"
      ]
    },
    {
      "cell_type": "code",
      "execution_count": null,
      "metadata": {},
      "outputs": [
        {
          "name": "stdout",
          "output_type": "stream",
          "text": [
            "Exact match not found for walking dead. Did you mean:\n",
            "1) the walking dead\n",
            "2) adú\n",
            "3) the quick and the dead\n",
            "4) dead set\n",
            "5) chhota bheem & krishna: pataliputra- city of the dead\n"
          ]
        }
      ],
      "source": [
        "movie('walking dead')"
      ]
    },
    {
      "cell_type": "code",
      "execution_count": null,
      "metadata": {},
      "outputs": [
        {
          "name": "stdout",
          "output_type": "stream",
          "text": [
            "Recomendations for: the walking dead\n",
            "                           title\n",
            "3241                black summer\n",
            "4887          all of us are dead\n",
            "3239                     kingdom\n",
            "1850              altered carbon\n",
            "1856  the haunting of hill house\n",
            "1315                          3%\n",
            "4909              the silent sea\n",
            "1305                      glitch\n",
            "4860                  archive 81\n",
            "3272   the haunting of bly manor\n"
          ]
        },
        {
          "name": "stderr",
          "output_type": "stream",
          "text": [
            "c:\\Users\\Vaishnavi Jayakumar\\AppData\\Local\\Programs\\Python\\Python310\\lib\\site-packages\\sklearn\\base.py:450: UserWarning: X does not have valid feature names, but NearestNeighbors was fitted with feature names\n",
            "  warnings.warn(\n"
          ]
        }
      ],
      "source": [
        "movie('the walking dead')"
      ]
    },
    {
      "cell_type": "code",
      "execution_count": null,
      "metadata": {},
      "outputs": [
        {
          "name": "stdout",
          "output_type": "stream",
          "text": [
            "Recomendations for: too hot to handle\n",
            "                                      title\n",
            "5796                            the big day\n",
            "5380              too hot to handle: brazil\n",
            "5426                  love is blind: brazil\n",
            "3222                          love is blind\n",
            "4233  the fabulous lives of bollywood wives\n",
            "5408                               insiders\n",
            "4856        the ultimatum: marry or move on\n",
            "5131                     my unorthodox life\n",
            "5479                     cooking with paris\n",
            "3997             million dollar beach house\n"
          ]
        },
        {
          "name": "stderr",
          "output_type": "stream",
          "text": [
            "c:\\Users\\Vaishnavi Jayakumar\\AppData\\Local\\Programs\\Python\\Python310\\lib\\site-packages\\sklearn\\base.py:450: UserWarning: X does not have valid feature names, but NearestNeighbors was fitted with feature names\n",
            "  warnings.warn(\n"
          ]
        }
      ],
      "source": [
        "movie('too hot to handle')"
      ]
    },
    {
      "cell_type": "code",
      "execution_count": null,
      "metadata": {},
      "outputs": [
        {
          "name": "stdout",
          "output_type": "stream",
          "text": [
            "Exact match not found for star wars. Did you mean:\n",
            "1) the little wars\n",
            "2) star trek: deep space nine\n",
            "3) look for a star\n",
            "4) food wars! shokugeki no soma\n",
            "5) pup star: better 2gether\n",
            "Recomendations for: star trek: deep space nine\n",
            "                                title\n",
            "106                     stargate sg-1\n",
            "55                       knight rider\n",
            "306                            merlin\n",
            "1843                    lost in space\n",
            "1581   stories by rabindranath tagore\n",
            "3715              my first first love\n",
            "2311  final fantasy xiv: dad of light\n",
            "2302               greenhouse academy\n",
            "3059                life plan a and b\n",
            "5176                             eden\n"
          ]
        },
        {
          "name": "stderr",
          "output_type": "stream",
          "text": [
            "c:\\Users\\Vaishnavi Jayakumar\\AppData\\Local\\Programs\\Python\\Python310\\lib\\site-packages\\sklearn\\base.py:450: UserWarning: X does not have valid feature names, but NearestNeighbors was fitted with feature names\n",
            "  warnings.warn(\n"
          ]
        }
      ],
      "source": [
        "movie('star wars')\n",
        "movie('star trek: deep space nine')"
      ]
    }
  ],
  "metadata": {
    "colab": {
      "collapsed_sections": [],
      "name": "Netflix Recommendation system.ipynb",
      "provenance": []
    },
    "kernelspec": {
      "display_name": "Python 3.10.1 64-bit",
      "language": "python",
      "name": "python3"
    },
    "language_info": {
      "codemirror_mode": {
        "name": "ipython",
        "version": 3
      },
      "file_extension": ".py",
      "mimetype": "text/x-python",
      "name": "python",
      "nbconvert_exporter": "python",
      "pygments_lexer": "ipython3",
      "version": "3.10.1"
    },
    "vscode": {
      "interpreter": {
        "hash": "db97545d32731abad830a2ebd3441f4e4367ec8f213a6fff07b58ce7230739ad"
      }
    }
  },
  "nbformat": 4,
  "nbformat_minor": 0
}
